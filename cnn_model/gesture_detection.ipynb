{
 "cells": [
  {
   "cell_type": "code",
   "execution_count": 8,
   "id": "37ed4721-2c0e-4a78-888e-8c586cbd4b47",
   "metadata": {
    "tags": []
   },
   "outputs": [],
   "source": [
    "import cv2\n",
    "import json\n",
    "from matplotlib import pyplot as plt\n",
    "import numpy as np\n",
    "import os\n",
    "import random\n",
    "import keras.models\n",
    "\n",
    "# import a lot of things from keras:\n",
    "# sequential model\n",
    "from keras.models import Sequential\n",
    "\n",
    "# layers\n",
    "from keras.layers import Input, Dense, Dropout, Flatten, Conv2D, MaxPooling2D, RandomFlip, RandomRotation, RandomContrast, RandomBrightness\n",
    "\n",
    "# loss function\n",
    "from keras.metrics import categorical_crossentropy\n",
    "\n",
    "# callback functions\n",
    "from keras.callbacks import ReduceLROnPlateau, EarlyStopping\n",
    "\n",
    "# convert data to categorial vector representation\n",
    "from keras.utils import to_categorical\n",
    "\n",
    "# nice progress bar for loading data\n",
    "from tqdm.notebook import tqdm\n",
    "\n",
    "# helper function for train/test split\n",
    "from sklearn.model_selection import train_test_split\n",
    "\n",
    "# import confusion matrix helper function\n",
    "from sklearn.metrics import confusion_matrix, ConfusionMatrixDisplay\n",
    "\n",
    "# import pre-trained model\n",
    "from keras.applications.vgg16 import VGG16\n",
    "\n",
    "# include only those gestures\n",
    "CONDITIONS = ['like', 'dislike', 'stop', 'rock', 'peace']\n",
    "label_names = CONDITIONS.copy()\n",
    "\n",
    "# image size\n",
    "IMG_SIZE = 64\n",
    "SIZE = (IMG_SIZE, IMG_SIZE)\n",
    "\n",
    "# number of color channels we want to use\n",
    "# set to 1 to convert to grayscale\n",
    "# set to 3 to use color images\n",
    "COLOR_CHANNELS = 3\n",
    "\n",
    "PATH = '../gesture_dataset_sample'"
   ]
  },
  {
   "cell_type": "markdown",
   "id": "47b3f618-cd32-48f5-b43d-05d670ec3cba",
   "metadata": {},
   "source": [
    "## helper function to load and parse annotations"
   ]
  },
  {
   "cell_type": "code",
   "execution_count": 4,
   "id": "3705021c-b053-4b70-87b1-a0049ba7e6cc",
   "metadata": {
    "tags": []
   },
   "outputs": [],
   "source": [
    "annotations = dict()\n",
    "\n",
    "for condition in CONDITIONS:\n",
    "    with open(f'{PATH}/_annotations/{condition}.json') as f:\n",
    "        annotations[condition] = json.load(f)"
   ]
  },
  {
   "cell_type": "code",
   "execution_count": 5,
   "id": "cf4cdf6b-bad3-4fe1-b4c6-4471e8ffcdb5",
   "metadata": {
    "tags": []
   },
   "outputs": [
    {
     "name": "stdout",
     "output_type": "stream",
     "text": [
      "{\n",
      "  \"bboxes\": [\n",
      "    [\n",
      "      0.38056273,\n",
      "      0.35650891,\n",
      "      0.17322347,\n",
      "      0.10461114\n",
      "    ]\n",
      "  ],\n",
      "  \"labels\": [\n",
      "    \"like\"\n",
      "  ],\n",
      "  \"landmarks\": [\n",
      "    [\n",
      "      [\n",
      "        0.5497169170918876,\n",
      "        0.4276043615779976\n",
      "      ],\n",
      "      [\n",
      "        0.5218336293004483,\n",
      "        0.40536586667786917\n",
      "      ],\n",
      "      [\n",
      "        0.48288133220125257,\n",
      "        0.3930262243722419\n",
      "      ],\n",
      "      [\n",
      "        0.4501841862302019,\n",
      "        0.37981099195030416\n",
      "      ],\n",
      "      [\n",
      "        0.44251365410099686,\n",
      "        0.36620499322043343\n",
      "      ],\n",
      "      [\n",
      "        0.43138297470865106,\n",
      "        0.406093902776592\n",
      "      ],\n",
      "      [\n",
      "        0.4072660997339628,\n",
      "        0.4073950234480344\n",
      "      ],\n",
      "      [\n",
      "        0.42588200316326846,\n",
      "        0.40612291879594015\n",
      "      ],\n",
      "      [\n",
      "        0.4441470003072778,\n",
      "        0.4049221293588555\n",
      "      ],\n",
      "      [\n",
      "        0.4314493576491367,\n",
      "        0.4212979654419442\n",
      "      ],\n",
      "      [\n",
      "        0.42096276272263283,\n",
      "        0.4180224457320293\n",
      "      ],\n",
      "      [\n",
      "        0.43966095717106257,\n",
      "        0.4163441895714394\n",
      "      ],\n",
      "      [\n",
      "        0.45584443128098306,\n",
      "        0.41643247458990734\n",
      "      ],\n",
      "      [\n",
      "        0.4399742832485622,\n",
      "        0.4347478484477659\n",
      "      ],\n",
      "      [\n",
      "        0.43512361573721164,\n",
      "        0.42874760405890505\n",
      "      ],\n",
      "      [\n",
      "        0.44966112930536684,\n",
      "        0.42732603739798153\n",
      "      ],\n",
      "      [\n",
      "        0.46521777606118425,\n",
      "        0.42773384627175054\n",
      "      ],\n",
      "      [\n",
      "        0.4497130758396873,\n",
      "        0.44628828496441647\n",
      "      ],\n",
      "      [\n",
      "        0.4430629908914239,\n",
      "        0.4396031525669027\n",
      "      ],\n",
      "      [\n",
      "        0.4567531364734271,\n",
      "        0.4381686665415549\n",
      "      ],\n",
      "      [\n",
      "        0.46957149131418796,\n",
      "        0.43870709196828805\n",
      "      ]\n",
      "    ]\n",
      "  ],\n",
      "  \"leading_conf\": 1.0,\n",
      "  \"leading_hand\": \"left\",\n",
      "  \"user_id\": \"6886e38c0576360baddef25fad3c0934be1dc0e192caa1c35a1785b50bd54118\"\n",
      "}\n"
     ]
    }
   ],
   "source": [
    "# pretty-print first element\n",
    "#000484ab-5fd0-49b8-9253-23a22b71d7b1\n",
    "print(json.dumps(annotations['like']['0014182f-d756-42b3-896c-c52de76926bb'], indent=2))"
   ]
  },
  {
   "cell_type": "markdown",
   "id": "0dad5afd-64ee-4dc2-9b34-4429210c3790",
   "metadata": {},
   "source": [
    "## helper function to pre-process images (color channel conversion and resizing)"
   ]
  },
  {
   "cell_type": "code",
   "execution_count": 6,
   "id": "7e6815af-85fb-483e-ae69-c3a3fee78ffa",
   "metadata": {
    "tags": []
   },
   "outputs": [],
   "source": [
    "def preprocess_image(img):\n",
    "    if COLOR_CHANNELS == 1:\n",
    "        img = cv2.cvtColor(img, cv2.COLOR_BGR2GRAY)\n",
    "    img_resized = cv2.resize(img, SIZE)\n",
    "    return img_resized"
   ]
  },
  {
   "cell_type": "markdown",
   "id": "121f42a0-ece9-47f3-aefb-521366921c18",
   "metadata": {},
   "source": [
    "## load images and annotations"
   ]
  },
  {
   "cell_type": "code",
   "execution_count": 7,
   "id": "06de9c48-aca0-468b-8048-bc7dca63d3ce",
   "metadata": {
    "tags": []
   },
   "outputs": [
    {
     "data": {
      "application/vnd.jupyter.widget-view+json": {
       "model_id": "c1c840c91ca44069834caa882a55973f",
       "version_major": 2,
       "version_minor": 0
      },
      "text/plain": [
       "  0%|          | 0/250 [00:00<?, ?it/s]"
      ]
     },
     "metadata": {},
     "output_type": "display_data"
    },
    {
     "name": "stdout",
     "output_type": "stream",
     "text": [
      "⚠️ Unbekanntes Label übersprungen: no_gesture\n",
      "⚠️ Unbekanntes Label übersprungen: no_gesture\n",
      "⚠️ Unbekanntes Label übersprungen: no_gesture\n",
      "⚠️ Unbekanntes Label übersprungen: no_gesture\n",
      "⚠️ Unbekanntes Label übersprungen: no_gesture\n",
      "⚠️ Unbekanntes Label übersprungen: no_gesture\n",
      "⚠️ Unbekanntes Label übersprungen: no_gesture\n",
      "⚠️ Unbekanntes Label übersprungen: no_gesture\n",
      "⚠️ Unbekanntes Label übersprungen: no_gesture\n",
      "⚠️ Unbekanntes Label übersprungen: no_gesture\n",
      "⚠️ Unbekanntes Label übersprungen: no_gesture\n",
      "⚠️ Unbekanntes Label übersprungen: no_gesture\n",
      "⚠️ Unbekanntes Label übersprungen: no_gesture\n",
      "⚠️ Unbekanntes Label übersprungen: no_gesture\n",
      "⚠️ Unbekanntes Label übersprungen: no_gesture\n",
      "⚠️ Unbekanntes Label übersprungen: no_gesture\n",
      "⚠️ Unbekanntes Label übersprungen: no_gesture\n",
      "⚠️ Unbekanntes Label übersprungen: no_gesture\n",
      "⚠️ Unbekanntes Label übersprungen: no_gesture\n",
      "⚠️ Unbekanntes Label übersprungen: no_gesture\n",
      "⚠️ Unbekanntes Label übersprungen: no_gesture\n",
      "⚠️ Unbekanntes Label übersprungen: no_gesture\n",
      "⚠️ Unbekanntes Label übersprungen: no_gesture\n",
      "⚠️ Unbekanntes Label übersprungen: no_gesture\n",
      "⚠️ Unbekanntes Label übersprungen: no_gesture\n",
      "⚠️ Unbekanntes Label übersprungen: no_gesture\n",
      "⚠️ Unbekanntes Label übersprungen: no_gesture\n",
      "⚠️ Unbekanntes Label übersprungen: no_gesture\n",
      "⚠️ Unbekanntes Label übersprungen: no_gesture\n",
      "⚠️ Unbekanntes Label übersprungen: no_gesture\n",
      "⚠️ Unbekanntes Label übersprungen: no_gesture\n",
      "⚠️ Unbekanntes Label übersprungen: no_gesture\n",
      "⚠️ Unbekanntes Label übersprungen: no_gesture\n",
      "⚠️ Unbekanntes Label übersprungen: no_gesture\n",
      "⚠️ Unbekanntes Label übersprungen: no_gesture\n",
      "⚠️ Unbekanntes Label übersprungen: no_gesture\n",
      "⚠️ Unbekanntes Label übersprungen: no_gesture\n",
      "⚠️ Unbekanntes Label übersprungen: no_gesture\n",
      "⚠️ Unbekanntes Label übersprungen: no_gesture\n",
      "⚠️ Unbekanntes Label übersprungen: no_gesture\n",
      "⚠️ Unbekanntes Label übersprungen: no_gesture\n",
      "⚠️ Unbekanntes Label übersprungen: no_gesture\n",
      "⚠️ Unbekanntes Label übersprungen: no_gesture\n",
      "⚠️ Unbekanntes Label übersprungen: no_gesture\n",
      "⚠️ Unbekanntes Label übersprungen: no_gesture\n",
      "⚠️ Unbekanntes Label übersprungen: no_gesture\n",
      "⚠️ Unbekanntes Label übersprungen: no_gesture\n",
      "⚠️ Unbekanntes Label übersprungen: no_gesture\n",
      "⚠️ Unbekanntes Label übersprungen: no_gesture\n",
      "⚠️ Unbekanntes Label übersprungen: no_gesture\n",
      "⚠️ Unbekanntes Label übersprungen: no_gesture\n",
      "⚠️ Unbekanntes Label übersprungen: no_gesture\n",
      "⚠️ Unbekanntes Label übersprungen: no_gesture\n",
      "⚠️ Unbekanntes Label übersprungen: no_gesture\n",
      "⚠️ Unbekanntes Label übersprungen: no_gesture\n",
      "⚠️ Unbekanntes Label übersprungen: no_gesture\n",
      "⚠️ Unbekanntes Label übersprungen: no_gesture\n",
      "⚠️ Unbekanntes Label übersprungen: no_gesture\n",
      "⚠️ Unbekanntes Label übersprungen: no_gesture\n",
      "⚠️ Unbekanntes Label übersprungen: no_gesture\n",
      "⚠️ Unbekanntes Label übersprungen: no_gesture\n",
      "⚠️ Unbekanntes Label übersprungen: no_gesture\n",
      "⚠️ Unbekanntes Label übersprungen: no_gesture\n",
      "⚠️ Unbekanntes Label übersprungen: no_gesture\n",
      "⚠️ Unbekanntes Label übersprungen: no_gesture\n",
      "⚠️ Unbekanntes Label übersprungen: no_gesture\n",
      "⚠️ Unbekanntes Label übersprungen: no_gesture\n"
     ]
    },
    {
     "data": {
      "application/vnd.jupyter.widget-view+json": {
       "model_id": "117c6fe06c7d484c98b0eb2df6b3be17",
       "version_major": 2,
       "version_minor": 0
      },
      "text/plain": [
       "  0%|          | 0/250 [00:00<?, ?it/s]"
      ]
     },
     "metadata": {},
     "output_type": "display_data"
    },
    {
     "name": "stdout",
     "output_type": "stream",
     "text": [
      "⚠️ Unbekanntes Label übersprungen: no_gesture\n",
      "⚠️ Unbekanntes Label übersprungen: no_gesture\n",
      "⚠️ Unbekanntes Label übersprungen: no_gesture\n",
      "⚠️ Unbekanntes Label übersprungen: no_gesture\n",
      "⚠️ Unbekanntes Label übersprungen: no_gesture\n",
      "⚠️ Unbekanntes Label übersprungen: no_gesture\n",
      "⚠️ Unbekanntes Label übersprungen: no_gesture\n",
      "⚠️ Unbekanntes Label übersprungen: no_gesture\n",
      "⚠️ Unbekanntes Label übersprungen: no_gesture\n",
      "⚠️ Unbekanntes Label übersprungen: no_gesture\n",
      "⚠️ Unbekanntes Label übersprungen: no_gesture\n",
      "⚠️ Unbekanntes Label übersprungen: no_gesture\n",
      "⚠️ Unbekanntes Label übersprungen: no_gesture\n",
      "⚠️ Unbekanntes Label übersprungen: no_gesture\n",
      "⚠️ Unbekanntes Label übersprungen: no_gesture\n",
      "⚠️ Unbekanntes Label übersprungen: no_gesture\n",
      "⚠️ Unbekanntes Label übersprungen: no_gesture\n",
      "⚠️ Unbekanntes Label übersprungen: no_gesture\n",
      "⚠️ Unbekanntes Label übersprungen: no_gesture\n",
      "⚠️ Unbekanntes Label übersprungen: no_gesture\n",
      "⚠️ Unbekanntes Label übersprungen: no_gesture\n",
      "⚠️ Unbekanntes Label übersprungen: no_gesture\n",
      "⚠️ Unbekanntes Label übersprungen: no_gesture\n",
      "⚠️ Unbekanntes Label übersprungen: no_gesture\n",
      "⚠️ Unbekanntes Label übersprungen: no_gesture\n",
      "⚠️ Unbekanntes Label übersprungen: no_gesture\n",
      "⚠️ Unbekanntes Label übersprungen: no_gesture\n",
      "⚠️ Unbekanntes Label übersprungen: no_gesture\n",
      "⚠️ Unbekanntes Label übersprungen: no_gesture\n",
      "⚠️ Unbekanntes Label übersprungen: no_gesture\n",
      "⚠️ Unbekanntes Label übersprungen: no_gesture\n",
      "⚠️ Unbekanntes Label übersprungen: no_gesture\n",
      "⚠️ Unbekanntes Label übersprungen: no_gesture\n",
      "⚠️ Unbekanntes Label übersprungen: no_gesture\n",
      "⚠️ Unbekanntes Label übersprungen: no_gesture\n",
      "⚠️ Unbekanntes Label übersprungen: no_gesture\n",
      "⚠️ Unbekanntes Label übersprungen: no_gesture\n",
      "⚠️ Unbekanntes Label übersprungen: no_gesture\n",
      "⚠️ Unbekanntes Label übersprungen: no_gesture\n",
      "⚠️ Unbekanntes Label übersprungen: no_gesture\n",
      "⚠️ Unbekanntes Label übersprungen: no_gesture\n",
      "⚠️ Unbekanntes Label übersprungen: no_gesture\n",
      "⚠️ Unbekanntes Label übersprungen: no_gesture\n",
      "⚠️ Unbekanntes Label übersprungen: no_gesture\n",
      "⚠️ Unbekanntes Label übersprungen: no_gesture\n",
      "⚠️ Unbekanntes Label übersprungen: no_gesture\n",
      "⚠️ Unbekanntes Label übersprungen: no_gesture\n",
      "⚠️ Unbekanntes Label übersprungen: no_gesture\n",
      "⚠️ Unbekanntes Label übersprungen: no_gesture\n",
      "⚠️ Unbekanntes Label übersprungen: no_gesture\n",
      "⚠️ Unbekanntes Label übersprungen: no_gesture\n",
      "⚠️ Unbekanntes Label übersprungen: no_gesture\n",
      "⚠️ Unbekanntes Label übersprungen: no_gesture\n",
      "⚠️ Unbekanntes Label übersprungen: no_gesture\n",
      "⚠️ Unbekanntes Label übersprungen: no_gesture\n",
      "⚠️ Unbekanntes Label übersprungen: no_gesture\n",
      "⚠️ Unbekanntes Label übersprungen: no_gesture\n",
      "⚠️ Unbekanntes Label übersprungen: no_gesture\n",
      "⚠️ Unbekanntes Label übersprungen: no_gesture\n",
      "⚠️ Unbekanntes Label übersprungen: no_gesture\n",
      "⚠️ Unbekanntes Label übersprungen: no_gesture\n",
      "⚠️ Unbekanntes Label übersprungen: no_gesture\n",
      "⚠️ Unbekanntes Label übersprungen: no_gesture\n",
      "⚠️ Unbekanntes Label übersprungen: no_gesture\n",
      "⚠️ Unbekanntes Label übersprungen: no_gesture\n",
      "⚠️ Unbekanntes Label übersprungen: no_gesture\n",
      "⚠️ Unbekanntes Label übersprungen: no_gesture\n",
      "⚠️ Unbekanntes Label übersprungen: no_gesture\n",
      "⚠️ Unbekanntes Label übersprungen: no_gesture\n",
      "⚠️ Unbekanntes Label übersprungen: no_gesture\n",
      "⚠️ Unbekanntes Label übersprungen: no_gesture\n",
      "⚠️ Unbekanntes Label übersprungen: no_gesture\n",
      "⚠️ Unbekanntes Label übersprungen: no_gesture\n",
      "⚠️ Unbekanntes Label übersprungen: no_gesture\n",
      "⚠️ Unbekanntes Label übersprungen: no_gesture\n",
      "⚠️ Unbekanntes Label übersprungen: no_gesture\n",
      "⚠️ Unbekanntes Label übersprungen: no_gesture\n",
      "⚠️ Unbekanntes Label übersprungen: no_gesture\n",
      "⚠️ Unbekanntes Label übersprungen: no_gesture\n",
      "⚠️ Unbekanntes Label übersprungen: no_gesture\n",
      "⚠️ Unbekanntes Label übersprungen: no_gesture\n"
     ]
    },
    {
     "data": {
      "application/vnd.jupyter.widget-view+json": {
       "model_id": "5c87b06837204746b23639404ca34623",
       "version_major": 2,
       "version_minor": 0
      },
      "text/plain": [
       "  0%|          | 0/250 [00:00<?, ?it/s]"
      ]
     },
     "metadata": {},
     "output_type": "display_data"
    },
    {
     "name": "stdout",
     "output_type": "stream",
     "text": [
      "⚠️ Unbekanntes Label übersprungen: no_gesture\n",
      "⚠️ Unbekanntes Label übersprungen: no_gesture\n",
      "⚠️ Unbekanntes Label übersprungen: no_gesture\n",
      "⚠️ Unbekanntes Label übersprungen: no_gesture\n",
      "⚠️ Unbekanntes Label übersprungen: no_gesture\n",
      "⚠️ Unbekanntes Label übersprungen: no_gesture\n",
      "⚠️ Unbekanntes Label übersprungen: no_gesture\n",
      "⚠️ Unbekanntes Label übersprungen: no_gesture\n",
      "⚠️ Unbekanntes Label übersprungen: no_gesture\n",
      "⚠️ Unbekanntes Label übersprungen: no_gesture\n",
      "⚠️ Unbekanntes Label übersprungen: no_gesture\n",
      "⚠️ Unbekanntes Label übersprungen: no_gesture\n",
      "⚠️ Unbekanntes Label übersprungen: no_gesture\n",
      "⚠️ Unbekanntes Label übersprungen: no_gesture\n",
      "⚠️ Unbekanntes Label übersprungen: no_gesture\n",
      "⚠️ Unbekanntes Label übersprungen: no_gesture\n",
      "⚠️ Unbekanntes Label übersprungen: no_gesture\n",
      "⚠️ Unbekanntes Label übersprungen: no_gesture\n",
      "⚠️ Unbekanntes Label übersprungen: no_gesture\n",
      "⚠️ Unbekanntes Label übersprungen: no_gesture\n",
      "⚠️ Unbekanntes Label übersprungen: no_gesture\n",
      "⚠️ Unbekanntes Label übersprungen: no_gesture\n",
      "⚠️ Unbekanntes Label übersprungen: no_gesture\n",
      "⚠️ Unbekanntes Label übersprungen: no_gesture\n",
      "⚠️ Unbekanntes Label übersprungen: no_gesture\n",
      "⚠️ Unbekanntes Label übersprungen: no_gesture\n",
      "⚠️ Unbekanntes Label übersprungen: no_gesture\n",
      "⚠️ Unbekanntes Label übersprungen: no_gesture\n",
      "⚠️ Unbekanntes Label übersprungen: no_gesture\n"
     ]
    },
    {
     "ename": "KeyboardInterrupt",
     "evalue": "",
     "output_type": "error",
     "traceback": [
      "\u001b[31m---------------------------------------------------------------------------\u001b[39m",
      "\u001b[31mKeyboardInterrupt\u001b[39m                         Traceback (most recent call last)",
      "\u001b[36mCell\u001b[39m\u001b[36m \u001b[39m\u001b[32mIn[7]\u001b[39m\u001b[32m, line 12\u001b[39m\n\u001b[32m      3\u001b[39m \u001b[38;5;66;03m#label_names = [] # maps label ints to their actual categories so we can understand predictions later\u001b[39;00m\n\u001b[32m      4\u001b[39m \n\u001b[32m      5\u001b[39m \u001b[38;5;66;03m# loop over all conditions\u001b[39;00m\n\u001b[32m   (...)\u001b[39m\u001b[32m      9\u001b[39m \u001b[38;5;66;03m# preprocess image\u001b[39;00m\n\u001b[32m     10\u001b[39m \u001b[38;5;66;03m# store preprocessed image and label in corresponding lists\u001b[39;00m\n\u001b[32m     11\u001b[39m \u001b[38;5;28;01mfor\u001b[39;00m condition \u001b[38;5;129;01min\u001b[39;00m CONDITIONS:\n\u001b[32m---> \u001b[39m\u001b[32m12\u001b[39m \u001b[43m    \u001b[49m\u001b[38;5;28;43;01mfor\u001b[39;49;00m\u001b[43m \u001b[49m\u001b[43mfilename\u001b[49m\u001b[43m \u001b[49m\u001b[38;5;129;43;01min\u001b[39;49;00m\u001b[43m \u001b[49m\u001b[43mtqdm\u001b[49m\u001b[43m(\u001b[49m\u001b[43mos\u001b[49m\u001b[43m.\u001b[49m\u001b[43mlistdir\u001b[49m\u001b[43m(\u001b[49m\u001b[33;43mf\u001b[39;49m\u001b[33;43m'\u001b[39;49m\u001b[38;5;132;43;01m{\u001b[39;49;00m\u001b[43mPATH\u001b[49m\u001b[38;5;132;43;01m}\u001b[39;49;00m\u001b[33;43m/\u001b[39;49m\u001b[38;5;132;43;01m{\u001b[39;49;00m\u001b[43mcondition\u001b[49m\u001b[38;5;132;43;01m}\u001b[39;49;00m\u001b[33;43m'\u001b[39;49m\u001b[43m)\u001b[49m\u001b[43m)\u001b[49m\u001b[43m:\u001b[49m\n\u001b[32m     13\u001b[39m \u001b[43m        \u001b[49m\u001b[38;5;66;43;03m# extract unique ID from file name\u001b[39;49;00m\n\u001b[32m     14\u001b[39m \u001b[43m        \u001b[49m\u001b[43mUID\u001b[49m\u001b[43m \u001b[49m\u001b[43m=\u001b[49m\u001b[43m \u001b[49m\u001b[43mfilename\u001b[49m\u001b[43m.\u001b[49m\u001b[43msplit\u001b[49m\u001b[43m(\u001b[49m\u001b[33;43m'\u001b[39;49m\u001b[33;43m.\u001b[39;49m\u001b[33;43m'\u001b[39;49m\u001b[43m)\u001b[49m\u001b[43m[\u001b[49m\u001b[32;43m0\u001b[39;49m\u001b[43m]\u001b[49m\n\u001b[32m     15\u001b[39m \u001b[43m        \u001b[49m\u001b[43mimg\u001b[49m\u001b[43m \u001b[49m\u001b[43m=\u001b[49m\u001b[43m \u001b[49m\u001b[43mcv2\u001b[49m\u001b[43m.\u001b[49m\u001b[43mimread\u001b[49m\u001b[43m(\u001b[49m\u001b[33;43mf\u001b[39;49m\u001b[33;43m'\u001b[39;49m\u001b[38;5;132;43;01m{\u001b[39;49;00m\u001b[43mPATH\u001b[49m\u001b[38;5;132;43;01m}\u001b[39;49;00m\u001b[33;43m/\u001b[39;49m\u001b[38;5;132;43;01m{\u001b[39;49;00m\u001b[43mcondition\u001b[49m\u001b[38;5;132;43;01m}\u001b[39;49;00m\u001b[33;43m/\u001b[39;49m\u001b[38;5;132;43;01m{\u001b[39;49;00m\u001b[43mfilename\u001b[49m\u001b[38;5;132;43;01m}\u001b[39;49;00m\u001b[33;43m'\u001b[39;49m\u001b[43m)\u001b[49m\n",
      "\u001b[36mFile \u001b[39m\u001b[32mc:\\Users\\Marc\\AppData\\Local\\Programs\\Python\\Python312\\Lib\\site-packages\\tqdm\\notebook.py:250\u001b[39m, in \u001b[36mtqdm_notebook.__iter__\u001b[39m\u001b[34m(self)\u001b[39m\n\u001b[32m    248\u001b[39m \u001b[38;5;28;01mtry\u001b[39;00m:\n\u001b[32m    249\u001b[39m     it = \u001b[38;5;28msuper\u001b[39m().\u001b[34m__iter__\u001b[39m()\n\u001b[32m--> \u001b[39m\u001b[32m250\u001b[39m \u001b[43m    \u001b[49m\u001b[38;5;28;43;01mfor\u001b[39;49;00m\u001b[43m \u001b[49m\u001b[43mobj\u001b[49m\u001b[43m \u001b[49m\u001b[38;5;129;43;01min\u001b[39;49;00m\u001b[43m \u001b[49m\u001b[43mit\u001b[49m\u001b[43m:\u001b[49m\n\u001b[32m    251\u001b[39m \u001b[43m        \u001b[49m\u001b[38;5;66;43;03m# return super(tqdm...) will not catch exception\u001b[39;49;00m\n\u001b[32m    252\u001b[39m \u001b[43m        \u001b[49m\u001b[38;5;28;43;01myield\u001b[39;49;00m\u001b[43m \u001b[49m\u001b[43mobj\u001b[49m\n\u001b[32m    253\u001b[39m \u001b[38;5;66;03m# NB: except ... [ as ...] breaks IPython async KeyboardInterrupt\u001b[39;00m\n",
      "\u001b[36mFile \u001b[39m\u001b[32mc:\\Users\\Marc\\AppData\\Local\\Programs\\Python\\Python312\\Lib\\site-packages\\tqdm\\std.py:1191\u001b[39m, in \u001b[36mtqdm.__iter__\u001b[39m\u001b[34m(self)\u001b[39m\n\u001b[32m   1189\u001b[39m dt = cur_t - last_print_t\n\u001b[32m   1190\u001b[39m \u001b[38;5;28;01mif\u001b[39;00m dt >= mininterval \u001b[38;5;129;01mand\u001b[39;00m cur_t >= min_start_t:\n\u001b[32m-> \u001b[39m\u001b[32m1191\u001b[39m     \u001b[38;5;28;43mself\u001b[39;49m\u001b[43m.\u001b[49m\u001b[43mupdate\u001b[49m\u001b[43m(\u001b[49m\u001b[43mn\u001b[49m\u001b[43m \u001b[49m\u001b[43m-\u001b[49m\u001b[43m \u001b[49m\u001b[43mlast_print_n\u001b[49m\u001b[43m)\u001b[49m\n\u001b[32m   1192\u001b[39m     last_print_n = \u001b[38;5;28mself\u001b[39m.last_print_n\n\u001b[32m   1193\u001b[39m     last_print_t = \u001b[38;5;28mself\u001b[39m.last_print_t\n",
      "\u001b[36mFile \u001b[39m\u001b[32mc:\\Users\\Marc\\AppData\\Local\\Programs\\Python\\Python312\\Lib\\site-packages\\tqdm\\notebook.py:262\u001b[39m, in \u001b[36mtqdm_notebook.update\u001b[39m\u001b[34m(self, n)\u001b[39m\n\u001b[32m    260\u001b[39m \u001b[38;5;28;01mdef\u001b[39;00m\u001b[38;5;250m \u001b[39m\u001b[34mupdate\u001b[39m(\u001b[38;5;28mself\u001b[39m, n=\u001b[32m1\u001b[39m):\n\u001b[32m    261\u001b[39m     \u001b[38;5;28;01mtry\u001b[39;00m:\n\u001b[32m--> \u001b[39m\u001b[32m262\u001b[39m         \u001b[38;5;28;01mreturn\u001b[39;00m \u001b[38;5;28;43msuper\u001b[39;49m\u001b[43m(\u001b[49m\u001b[43m)\u001b[49m\u001b[43m.\u001b[49m\u001b[43mupdate\u001b[49m\u001b[43m(\u001b[49m\u001b[43mn\u001b[49m\u001b[43m=\u001b[49m\u001b[43mn\u001b[49m\u001b[43m)\u001b[49m\n\u001b[32m    263\u001b[39m     \u001b[38;5;66;03m# NB: except ... [ as ...] breaks IPython async KeyboardInterrupt\u001b[39;00m\n\u001b[32m    264\u001b[39m     \u001b[38;5;28;01mexcept\u001b[39;00m:  \u001b[38;5;66;03m# NOQA\u001b[39;00m\n\u001b[32m    265\u001b[39m         \u001b[38;5;66;03m# cannot catch KeyboardInterrupt when using manual tqdm\u001b[39;00m\n\u001b[32m    266\u001b[39m         \u001b[38;5;66;03m# as the interrupt will most likely happen on another statement\u001b[39;00m\n",
      "\u001b[36mFile \u001b[39m\u001b[32mc:\\Users\\Marc\\AppData\\Local\\Programs\\Python\\Python312\\Lib\\site-packages\\tqdm\\std.py:1242\u001b[39m, in \u001b[36mtqdm.update\u001b[39m\u001b[34m(self, n)\u001b[39m\n\u001b[32m   1240\u001b[39m     \u001b[38;5;28mself\u001b[39m._ema_dn(dn)\n\u001b[32m   1241\u001b[39m     \u001b[38;5;28mself\u001b[39m._ema_dt(dt)\n\u001b[32m-> \u001b[39m\u001b[32m1242\u001b[39m \u001b[38;5;28;43mself\u001b[39;49m\u001b[43m.\u001b[49m\u001b[43mrefresh\u001b[49m\u001b[43m(\u001b[49m\u001b[43mlock_args\u001b[49m\u001b[43m=\u001b[49m\u001b[38;5;28;43mself\u001b[39;49m\u001b[43m.\u001b[49m\u001b[43mlock_args\u001b[49m\u001b[43m)\u001b[49m\n\u001b[32m   1243\u001b[39m \u001b[38;5;28;01mif\u001b[39;00m \u001b[38;5;28mself\u001b[39m.dynamic_miniters:\n\u001b[32m   1244\u001b[39m     \u001b[38;5;66;03m# If no `miniters` was specified, adjust automatically to the\u001b[39;00m\n\u001b[32m   1245\u001b[39m     \u001b[38;5;66;03m# maximum iteration rate seen so far between two prints.\u001b[39;00m\n\u001b[32m   1246\u001b[39m     \u001b[38;5;66;03m# e.g.: After running `tqdm.update(5)`, subsequent\u001b[39;00m\n\u001b[32m   1247\u001b[39m     \u001b[38;5;66;03m# calls to `tqdm.update()` will only cause an update after\u001b[39;00m\n\u001b[32m   1248\u001b[39m     \u001b[38;5;66;03m# at least 5 more iterations.\u001b[39;00m\n\u001b[32m   1249\u001b[39m     \u001b[38;5;28;01mif\u001b[39;00m \u001b[38;5;28mself\u001b[39m.maxinterval \u001b[38;5;129;01mand\u001b[39;00m dt >= \u001b[38;5;28mself\u001b[39m.maxinterval:\n",
      "\u001b[36mFile \u001b[39m\u001b[32mc:\\Users\\Marc\\AppData\\Local\\Programs\\Python\\Python312\\Lib\\site-packages\\tqdm\\std.py:1347\u001b[39m, in \u001b[36mtqdm.refresh\u001b[39m\u001b[34m(self, nolock, lock_args)\u001b[39m\n\u001b[32m   1345\u001b[39m     \u001b[38;5;28;01melse\u001b[39;00m:\n\u001b[32m   1346\u001b[39m         \u001b[38;5;28mself\u001b[39m._lock.acquire()\n\u001b[32m-> \u001b[39m\u001b[32m1347\u001b[39m \u001b[38;5;28;43mself\u001b[39;49m\u001b[43m.\u001b[49m\u001b[43mdisplay\u001b[49m\u001b[43m(\u001b[49m\u001b[43m)\u001b[49m\n\u001b[32m   1348\u001b[39m \u001b[38;5;28;01mif\u001b[39;00m \u001b[38;5;129;01mnot\u001b[39;00m nolock:\n\u001b[32m   1349\u001b[39m     \u001b[38;5;28mself\u001b[39m._lock.release()\n",
      "\u001b[36mFile \u001b[39m\u001b[32mc:\\Users\\Marc\\AppData\\Local\\Programs\\Python\\Python312\\Lib\\site-packages\\tqdm\\notebook.py:171\u001b[39m, in \u001b[36mtqdm_notebook.display\u001b[39m\u001b[34m(self, msg, pos, close, bar_style, check_delay)\u001b[39m\n\u001b[32m    169\u001b[39m     \u001b[38;5;66;03m# never clear the bar (signal: msg='')\u001b[39;00m\n\u001b[32m    170\u001b[39m     \u001b[38;5;28;01mif\u001b[39;00m right:\n\u001b[32m--> \u001b[39m\u001b[32m171\u001b[39m         \u001b[43mrtext\u001b[49m\u001b[43m.\u001b[49m\u001b[43mvalue\u001b[49m = right\n\u001b[32m    173\u001b[39m \u001b[38;5;66;03m# Change bar style\u001b[39;00m\n\u001b[32m    174\u001b[39m \u001b[38;5;28;01mif\u001b[39;00m bar_style:\n\u001b[32m    175\u001b[39m     \u001b[38;5;66;03m# Hack-ish way to avoid the danger bar_style being overridden by\u001b[39;00m\n\u001b[32m    176\u001b[39m     \u001b[38;5;66;03m# success because the bar gets closed after the error...\u001b[39;00m\n",
      "\u001b[36mFile \u001b[39m\u001b[32m~\\AppData\\Roaming\\Python\\Python312\\site-packages\\traitlets\\traitlets.py:716\u001b[39m, in \u001b[36mTraitType.__set__\u001b[39m\u001b[34m(self, obj, value)\u001b[39m\n\u001b[32m    714\u001b[39m \u001b[38;5;28;01mif\u001b[39;00m \u001b[38;5;28mself\u001b[39m.read_only:\n\u001b[32m    715\u001b[39m     \u001b[38;5;28;01mraise\u001b[39;00m TraitError(\u001b[33m'\u001b[39m\u001b[33mThe \u001b[39m\u001b[33m\"\u001b[39m\u001b[38;5;132;01m%s\u001b[39;00m\u001b[33m\"\u001b[39m\u001b[33m trait is read-only.\u001b[39m\u001b[33m'\u001b[39m % \u001b[38;5;28mself\u001b[39m.name)\n\u001b[32m--> \u001b[39m\u001b[32m716\u001b[39m \u001b[38;5;28;43mself\u001b[39;49m\u001b[43m.\u001b[49m\u001b[43mset\u001b[49m\u001b[43m(\u001b[49m\u001b[43mobj\u001b[49m\u001b[43m,\u001b[49m\u001b[43m \u001b[49m\u001b[43mvalue\u001b[49m\u001b[43m)\u001b[49m\n",
      "\u001b[36mFile \u001b[39m\u001b[32m~\\AppData\\Roaming\\Python\\Python312\\site-packages\\traitlets\\traitlets.py:706\u001b[39m, in \u001b[36mTraitType.set\u001b[39m\u001b[34m(self, obj, value)\u001b[39m\n\u001b[32m    702\u001b[39m     silent = \u001b[38;5;28;01mFalse\u001b[39;00m\n\u001b[32m    703\u001b[39m \u001b[38;5;28;01mif\u001b[39;00m silent \u001b[38;5;129;01mis\u001b[39;00m \u001b[38;5;129;01mnot\u001b[39;00m \u001b[38;5;28;01mTrue\u001b[39;00m:\n\u001b[32m    704\u001b[39m     \u001b[38;5;66;03m# we explicitly compare silent to True just in case the equality\u001b[39;00m\n\u001b[32m    705\u001b[39m     \u001b[38;5;66;03m# comparison above returns something other than True/False\u001b[39;00m\n\u001b[32m--> \u001b[39m\u001b[32m706\u001b[39m     \u001b[43mobj\u001b[49m\u001b[43m.\u001b[49m\u001b[43m_notify_trait\u001b[49m\u001b[43m(\u001b[49m\u001b[38;5;28;43mself\u001b[39;49m\u001b[43m.\u001b[49m\u001b[43mname\u001b[49m\u001b[43m,\u001b[49m\u001b[43m \u001b[49m\u001b[43mold_value\u001b[49m\u001b[43m,\u001b[49m\u001b[43m \u001b[49m\u001b[43mnew_value\u001b[49m\u001b[43m)\u001b[49m\n",
      "\u001b[36mFile \u001b[39m\u001b[32m~\\AppData\\Roaming\\Python\\Python312\\site-packages\\traitlets\\traitlets.py:1513\u001b[39m, in \u001b[36mHasTraits._notify_trait\u001b[39m\u001b[34m(self, name, old_value, new_value)\u001b[39m\n\u001b[32m   1512\u001b[39m \u001b[38;5;28;01mdef\u001b[39;00m\u001b[38;5;250m \u001b[39m\u001b[34m_notify_trait\u001b[39m(\u001b[38;5;28mself\u001b[39m, name: \u001b[38;5;28mstr\u001b[39m, old_value: t.Any, new_value: t.Any) -> \u001b[38;5;28;01mNone\u001b[39;00m:\n\u001b[32m-> \u001b[39m\u001b[32m1513\u001b[39m     \u001b[38;5;28;43mself\u001b[39;49m\u001b[43m.\u001b[49m\u001b[43mnotify_change\u001b[49m\u001b[43m(\u001b[49m\n\u001b[32m   1514\u001b[39m \u001b[43m        \u001b[49m\u001b[43mBunch\u001b[49m\u001b[43m(\u001b[49m\n\u001b[32m   1515\u001b[39m \u001b[43m            \u001b[49m\u001b[43mname\u001b[49m\u001b[43m=\u001b[49m\u001b[43mname\u001b[49m\u001b[43m,\u001b[49m\n\u001b[32m   1516\u001b[39m \u001b[43m            \u001b[49m\u001b[43mold\u001b[49m\u001b[43m=\u001b[49m\u001b[43mold_value\u001b[49m\u001b[43m,\u001b[49m\n\u001b[32m   1517\u001b[39m \u001b[43m            \u001b[49m\u001b[43mnew\u001b[49m\u001b[43m=\u001b[49m\u001b[43mnew_value\u001b[49m\u001b[43m,\u001b[49m\n\u001b[32m   1518\u001b[39m \u001b[43m            \u001b[49m\u001b[43mowner\u001b[49m\u001b[43m=\u001b[49m\u001b[38;5;28;43mself\u001b[39;49m\u001b[43m,\u001b[49m\n\u001b[32m   1519\u001b[39m \u001b[43m            \u001b[49m\u001b[38;5;28;43mtype\u001b[39;49m\u001b[43m=\u001b[49m\u001b[33;43m\"\u001b[39;49m\u001b[33;43mchange\u001b[39;49m\u001b[33;43m\"\u001b[39;49m\u001b[43m,\u001b[49m\n\u001b[32m   1520\u001b[39m \u001b[43m        \u001b[49m\u001b[43m)\u001b[49m\n\u001b[32m   1521\u001b[39m \u001b[43m    \u001b[49m\u001b[43m)\u001b[49m\n",
      "\u001b[36mFile \u001b[39m\u001b[32mc:\\Users\\Marc\\AppData\\Local\\Programs\\Python\\Python312\\Lib\\site-packages\\ipywidgets\\widgets\\widget.py:700\u001b[39m, in \u001b[36mWidget.notify_change\u001b[39m\u001b[34m(self, change)\u001b[39m\n\u001b[32m    696\u001b[39m \u001b[38;5;28;01mif\u001b[39;00m \u001b[38;5;28mself\u001b[39m.comm \u001b[38;5;129;01mis\u001b[39;00m \u001b[38;5;129;01mnot\u001b[39;00m \u001b[38;5;28;01mNone\u001b[39;00m \u001b[38;5;129;01mand\u001b[39;00m \u001b[38;5;28mgetattr\u001b[39m(\u001b[38;5;28mself\u001b[39m.comm, \u001b[33m'\u001b[39m\u001b[33mkernel\u001b[39m\u001b[33m'\u001b[39m, \u001b[38;5;28;01mTrue\u001b[39;00m) \u001b[38;5;129;01mis\u001b[39;00m \u001b[38;5;129;01mnot\u001b[39;00m \u001b[38;5;28;01mNone\u001b[39;00m:\n\u001b[32m    697\u001b[39m     \u001b[38;5;66;03m# Make sure this isn't information that the front-end just sent us.\u001b[39;00m\n\u001b[32m    698\u001b[39m     \u001b[38;5;28;01mif\u001b[39;00m name \u001b[38;5;129;01min\u001b[39;00m \u001b[38;5;28mself\u001b[39m.keys \u001b[38;5;129;01mand\u001b[39;00m \u001b[38;5;28mself\u001b[39m._should_send_property(name, \u001b[38;5;28mgetattr\u001b[39m(\u001b[38;5;28mself\u001b[39m, name)):\n\u001b[32m    699\u001b[39m         \u001b[38;5;66;03m# Send new state to front-end\u001b[39;00m\n\u001b[32m--> \u001b[39m\u001b[32m700\u001b[39m         \u001b[38;5;28;43mself\u001b[39;49m\u001b[43m.\u001b[49m\u001b[43msend_state\u001b[49m\u001b[43m(\u001b[49m\u001b[43mkey\u001b[49m\u001b[43m=\u001b[49m\u001b[43mname\u001b[49m\u001b[43m)\u001b[49m\n\u001b[32m    701\u001b[39m \u001b[38;5;28msuper\u001b[39m().notify_change(change)\n",
      "\u001b[36mFile \u001b[39m\u001b[32mc:\\Users\\Marc\\AppData\\Local\\Programs\\Python\\Python312\\Lib\\site-packages\\ipywidgets\\widgets\\widget.py:586\u001b[39m, in \u001b[36mWidget.send_state\u001b[39m\u001b[34m(self, key)\u001b[39m\n\u001b[32m    584\u001b[39m state, buffer_paths, buffers = _remove_buffers(state)\n\u001b[32m    585\u001b[39m msg = {\u001b[33m'\u001b[39m\u001b[33mmethod\u001b[39m\u001b[33m'\u001b[39m: \u001b[33m'\u001b[39m\u001b[33mupdate\u001b[39m\u001b[33m'\u001b[39m, \u001b[33m'\u001b[39m\u001b[33mstate\u001b[39m\u001b[33m'\u001b[39m: state, \u001b[33m'\u001b[39m\u001b[33mbuffer_paths\u001b[39m\u001b[33m'\u001b[39m: buffer_paths}\n\u001b[32m--> \u001b[39m\u001b[32m586\u001b[39m \u001b[38;5;28;43mself\u001b[39;49m\u001b[43m.\u001b[49m\u001b[43m_send\u001b[49m\u001b[43m(\u001b[49m\u001b[43mmsg\u001b[49m\u001b[43m,\u001b[49m\u001b[43m \u001b[49m\u001b[43mbuffers\u001b[49m\u001b[43m=\u001b[49m\u001b[43mbuffers\u001b[49m\u001b[43m)\u001b[49m\n",
      "\u001b[36mFile \u001b[39m\u001b[32mc:\\Users\\Marc\\AppData\\Local\\Programs\\Python\\Python312\\Lib\\site-packages\\ipywidgets\\widgets\\widget.py:825\u001b[39m, in \u001b[36mWidget._send\u001b[39m\u001b[34m(self, msg, buffers)\u001b[39m\n\u001b[32m    823\u001b[39m \u001b[38;5;250m\u001b[39m\u001b[33;03m\"\"\"Sends a message to the model in the front-end.\"\"\"\u001b[39;00m\n\u001b[32m    824\u001b[39m \u001b[38;5;28;01mif\u001b[39;00m \u001b[38;5;28mself\u001b[39m.comm \u001b[38;5;129;01mis\u001b[39;00m \u001b[38;5;129;01mnot\u001b[39;00m \u001b[38;5;28;01mNone\u001b[39;00m \u001b[38;5;129;01mand\u001b[39;00m (\u001b[38;5;28mself\u001b[39m.comm.kernel \u001b[38;5;129;01mis\u001b[39;00m \u001b[38;5;129;01mnot\u001b[39;00m \u001b[38;5;28;01mNone\u001b[39;00m \u001b[38;5;28;01mif\u001b[39;00m \u001b[38;5;28mhasattr\u001b[39m(\u001b[38;5;28mself\u001b[39m.comm, \u001b[33m\"\u001b[39m\u001b[33mkernel\u001b[39m\u001b[33m\"\u001b[39m) \u001b[38;5;28;01melse\u001b[39;00m \u001b[38;5;28;01mTrue\u001b[39;00m):\n\u001b[32m--> \u001b[39m\u001b[32m825\u001b[39m     \u001b[38;5;28;43mself\u001b[39;49m\u001b[43m.\u001b[49m\u001b[43mcomm\u001b[49m\u001b[43m.\u001b[49m\u001b[43msend\u001b[49m\u001b[43m(\u001b[49m\u001b[43mdata\u001b[49m\u001b[43m=\u001b[49m\u001b[43mmsg\u001b[49m\u001b[43m,\u001b[49m\u001b[43m \u001b[49m\u001b[43mbuffers\u001b[49m\u001b[43m=\u001b[49m\u001b[43mbuffers\u001b[49m\u001b[43m)\u001b[49m\n",
      "\u001b[36mFile \u001b[39m\u001b[32m~\\AppData\\Roaming\\Python\\Python312\\site-packages\\comm\\base_comm.py:147\u001b[39m, in \u001b[36mBaseComm.send\u001b[39m\u001b[34m(self, data, metadata, buffers)\u001b[39m\n\u001b[32m    143\u001b[39m \u001b[38;5;28;01mdef\u001b[39;00m\u001b[38;5;250m \u001b[39m\u001b[34msend\u001b[39m(\n\u001b[32m    144\u001b[39m     \u001b[38;5;28mself\u001b[39m, data: MaybeDict = \u001b[38;5;28;01mNone\u001b[39;00m, metadata: MaybeDict = \u001b[38;5;28;01mNone\u001b[39;00m, buffers: BuffersType = \u001b[38;5;28;01mNone\u001b[39;00m\n\u001b[32m    145\u001b[39m ) -> \u001b[38;5;28;01mNone\u001b[39;00m:\n\u001b[32m    146\u001b[39m \u001b[38;5;250m    \u001b[39m\u001b[33;03m\"\"\"Send a message to the frontend-side version of this comm\"\"\"\u001b[39;00m\n\u001b[32m--> \u001b[39m\u001b[32m147\u001b[39m     \u001b[38;5;28;43mself\u001b[39;49m\u001b[43m.\u001b[49m\u001b[43mpublish_msg\u001b[49m\u001b[43m(\u001b[49m\n\u001b[32m    148\u001b[39m \u001b[43m        \u001b[49m\u001b[33;43m\"\u001b[39;49m\u001b[33;43mcomm_msg\u001b[39;49m\u001b[33;43m\"\u001b[39;49m\u001b[43m,\u001b[49m\n\u001b[32m    149\u001b[39m \u001b[43m        \u001b[49m\u001b[43mdata\u001b[49m\u001b[43m=\u001b[49m\u001b[43mdata\u001b[49m\u001b[43m,\u001b[49m\n\u001b[32m    150\u001b[39m \u001b[43m        \u001b[49m\u001b[43mmetadata\u001b[49m\u001b[43m=\u001b[49m\u001b[43mmetadata\u001b[49m\u001b[43m,\u001b[49m\n\u001b[32m    151\u001b[39m \u001b[43m        \u001b[49m\u001b[43mbuffers\u001b[49m\u001b[43m=\u001b[49m\u001b[43mbuffers\u001b[49m\u001b[43m,\u001b[49m\n\u001b[32m    152\u001b[39m \u001b[43m    \u001b[49m\u001b[43m)\u001b[49m\n",
      "\u001b[36mFile \u001b[39m\u001b[32m~\\AppData\\Roaming\\Python\\Python312\\site-packages\\ipykernel\\comm\\comm.py:37\u001b[39m, in \u001b[36mBaseComm.publish_msg\u001b[39m\u001b[34m(self, msg_type, data, metadata, buffers, **keys)\u001b[39m\n\u001b[32m     34\u001b[39m     \u001b[38;5;28mself\u001b[39m.kernel = Kernel.instance()\n\u001b[32m     36\u001b[39m \u001b[38;5;28;01massert\u001b[39;00m \u001b[38;5;28mself\u001b[39m.kernel.session \u001b[38;5;129;01mis\u001b[39;00m \u001b[38;5;129;01mnot\u001b[39;00m \u001b[38;5;28;01mNone\u001b[39;00m\n\u001b[32m---> \u001b[39m\u001b[32m37\u001b[39m \u001b[38;5;28;43mself\u001b[39;49m\u001b[43m.\u001b[49m\u001b[43mkernel\u001b[49m\u001b[43m.\u001b[49m\u001b[43msession\u001b[49m\u001b[43m.\u001b[49m\u001b[43msend\u001b[49m\u001b[43m(\u001b[49m\n\u001b[32m     38\u001b[39m \u001b[43m    \u001b[49m\u001b[38;5;28;43mself\u001b[39;49m\u001b[43m.\u001b[49m\u001b[43mkernel\u001b[49m\u001b[43m.\u001b[49m\u001b[43miopub_socket\u001b[49m\u001b[43m,\u001b[49m\n\u001b[32m     39\u001b[39m \u001b[43m    \u001b[49m\u001b[43mmsg_type\u001b[49m\u001b[43m,\u001b[49m\n\u001b[32m     40\u001b[39m \u001b[43m    \u001b[49m\u001b[43mcontent\u001b[49m\u001b[43m,\u001b[49m\n\u001b[32m     41\u001b[39m \u001b[43m    \u001b[49m\u001b[43mmetadata\u001b[49m\u001b[43m=\u001b[49m\u001b[43mjson_clean\u001b[49m\u001b[43m(\u001b[49m\u001b[43mmetadata\u001b[49m\u001b[43m)\u001b[49m\u001b[43m,\u001b[49m\n\u001b[32m     42\u001b[39m \u001b[43m    \u001b[49m\u001b[43mparent\u001b[49m\u001b[43m=\u001b[49m\u001b[38;5;28;43mself\u001b[39;49m\u001b[43m.\u001b[49m\u001b[43mkernel\u001b[49m\u001b[43m.\u001b[49m\u001b[43mget_parent\u001b[49m\u001b[43m(\u001b[49m\u001b[43m)\u001b[49m\u001b[43m,\u001b[49m\n\u001b[32m     43\u001b[39m \u001b[43m    \u001b[49m\u001b[43mident\u001b[49m\u001b[43m=\u001b[49m\u001b[38;5;28;43mself\u001b[39;49m\u001b[43m.\u001b[49m\u001b[43mtopic\u001b[49m\u001b[43m,\u001b[49m\n\u001b[32m     44\u001b[39m \u001b[43m    \u001b[49m\u001b[43mbuffers\u001b[49m\u001b[43m=\u001b[49m\u001b[43mbuffers\u001b[49m\u001b[43m,\u001b[49m\n\u001b[32m     45\u001b[39m \u001b[43m\u001b[49m\u001b[43m)\u001b[49m\n",
      "\u001b[36mFile \u001b[39m\u001b[32m~\\AppData\\Roaming\\Python\\Python312\\site-packages\\jupyter_client\\session.py:863\u001b[39m, in \u001b[36mSession.send\u001b[39m\u001b[34m(self, stream, msg_or_type, content, parent, ident, buffers, track, header, metadata)\u001b[39m\n\u001b[32m    860\u001b[39m \u001b[38;5;28;01melif\u001b[39;00m stream:\n\u001b[32m    861\u001b[39m     \u001b[38;5;66;03m# use dummy tracker, which will be done immediately\u001b[39;00m\n\u001b[32m    862\u001b[39m     tracker = DONE\n\u001b[32m--> \u001b[39m\u001b[32m863\u001b[39m     \u001b[43mstream\u001b[49m\u001b[43m.\u001b[49m\u001b[43msend_multipart\u001b[49m\u001b[43m(\u001b[49m\u001b[43mto_send\u001b[49m\u001b[43m,\u001b[49m\u001b[43m \u001b[49m\u001b[43mcopy\u001b[49m\u001b[43m=\u001b[49m\u001b[43mcopy\u001b[49m\u001b[43m)\u001b[49m\n\u001b[32m    864\u001b[39m \u001b[38;5;28;01melse\u001b[39;00m:\n\u001b[32m    865\u001b[39m     tracker = DONE\n",
      "\u001b[36mFile \u001b[39m\u001b[32m~\\AppData\\Roaming\\Python\\Python312\\site-packages\\ipykernel\\iostream.py:346\u001b[39m, in \u001b[36mBackgroundSocket.send_multipart\u001b[39m\u001b[34m(self, *args, **kwargs)\u001b[39m\n\u001b[32m    344\u001b[39m \u001b[38;5;250m\u001b[39m\u001b[33;03m\"\"\"Schedule send in IO thread\"\"\"\u001b[39;00m\n\u001b[32m    345\u001b[39m \u001b[38;5;28;01massert\u001b[39;00m \u001b[38;5;28mself\u001b[39m.io_thread \u001b[38;5;129;01mis\u001b[39;00m \u001b[38;5;129;01mnot\u001b[39;00m \u001b[38;5;28;01mNone\u001b[39;00m\n\u001b[32m--> \u001b[39m\u001b[32m346\u001b[39m \u001b[38;5;28;01mreturn\u001b[39;00m \u001b[38;5;28;43mself\u001b[39;49m\u001b[43m.\u001b[49m\u001b[43mio_thread\u001b[49m\u001b[43m.\u001b[49m\u001b[43msend_multipart\u001b[49m\u001b[43m(\u001b[49m\u001b[43m*\u001b[49m\u001b[43margs\u001b[49m\u001b[43m,\u001b[49m\u001b[43m \u001b[49m\u001b[43m*\u001b[49m\u001b[43m*\u001b[49m\u001b[43mkwargs\u001b[49m\u001b[43m)\u001b[49m\n",
      "\u001b[36mFile \u001b[39m\u001b[32m~\\AppData\\Roaming\\Python\\Python312\\site-packages\\ipykernel\\iostream.py:276\u001b[39m, in \u001b[36mIOPubThread.send_multipart\u001b[39m\u001b[34m(self, *args, **kwargs)\u001b[39m\n\u001b[32m    271\u001b[39m \u001b[38;5;28;01mdef\u001b[39;00m\u001b[38;5;250m \u001b[39m\u001b[34msend_multipart\u001b[39m(\u001b[38;5;28mself\u001b[39m, *args, **kwargs):\n\u001b[32m    272\u001b[39m \u001b[38;5;250m    \u001b[39m\u001b[33;03m\"\"\"send_multipart schedules actual zmq send in my thread.\u001b[39;00m\n\u001b[32m    273\u001b[39m \n\u001b[32m    274\u001b[39m \u001b[33;03m    If my thread isn't running (e.g. forked process), send immediately.\u001b[39;00m\n\u001b[32m    275\u001b[39m \u001b[33;03m    \"\"\"\u001b[39;00m\n\u001b[32m--> \u001b[39m\u001b[32m276\u001b[39m     \u001b[38;5;28;43mself\u001b[39;49m\u001b[43m.\u001b[49m\u001b[43mschedule\u001b[49m\u001b[43m(\u001b[49m\u001b[38;5;28;43;01mlambda\u001b[39;49;00m\u001b[43m:\u001b[49m\u001b[43m \u001b[49m\u001b[38;5;28;43mself\u001b[39;49m\u001b[43m.\u001b[49m\u001b[43m_really_send\u001b[49m\u001b[43m(\u001b[49m\u001b[43m*\u001b[49m\u001b[43margs\u001b[49m\u001b[43m,\u001b[49m\u001b[43m \u001b[49m\u001b[43m*\u001b[49m\u001b[43m*\u001b[49m\u001b[43mkwargs\u001b[49m\u001b[43m)\u001b[49m\u001b[43m)\u001b[49m\n",
      "\u001b[36mFile \u001b[39m\u001b[32m~\\AppData\\Roaming\\Python\\Python312\\site-packages\\ipykernel\\iostream.py:267\u001b[39m, in \u001b[36mIOPubThread.schedule\u001b[39m\u001b[34m(self, f)\u001b[39m\n\u001b[32m    265\u001b[39m     \u001b[38;5;28mself\u001b[39m._events.append(f)\n\u001b[32m    266\u001b[39m     \u001b[38;5;66;03m# wake event thread (message content is ignored)\u001b[39;00m\n\u001b[32m--> \u001b[39m\u001b[32m267\u001b[39m     \u001b[38;5;28;43mself\u001b[39;49m\u001b[43m.\u001b[49m\u001b[43m_event_pipe\u001b[49m\u001b[43m.\u001b[49m\u001b[43msend\u001b[49m\u001b[43m(\u001b[49m\u001b[33;43mb\u001b[39;49m\u001b[33;43m\"\u001b[39;49m\u001b[33;43m\"\u001b[39;49m\u001b[43m)\u001b[49m\n\u001b[32m    268\u001b[39m \u001b[38;5;28;01melse\u001b[39;00m:\n\u001b[32m    269\u001b[39m     f()\n",
      "\u001b[36mFile \u001b[39m\u001b[32m~\\AppData\\Roaming\\Python\\Python312\\site-packages\\zmq\\sugar\\socket.py:698\u001b[39m, in \u001b[36mSocket.send\u001b[39m\u001b[34m(self, data, flags, copy, track, routing_id, group)\u001b[39m\n\u001b[32m    691\u001b[39m         data = zmq.Frame(\n\u001b[32m    692\u001b[39m             data,\n\u001b[32m    693\u001b[39m             track=track,\n\u001b[32m    694\u001b[39m             copy=copy \u001b[38;5;129;01mor\u001b[39;00m \u001b[38;5;28;01mNone\u001b[39;00m,\n\u001b[32m    695\u001b[39m             copy_threshold=\u001b[38;5;28mself\u001b[39m.copy_threshold,\n\u001b[32m    696\u001b[39m         )\n\u001b[32m    697\u001b[39m     data.group = group\n\u001b[32m--> \u001b[39m\u001b[32m698\u001b[39m \u001b[38;5;28;01mreturn\u001b[39;00m \u001b[38;5;28;43msuper\u001b[39;49m\u001b[43m(\u001b[49m\u001b[43m)\u001b[49m\u001b[43m.\u001b[49m\u001b[43msend\u001b[49m\u001b[43m(\u001b[49m\u001b[43mdata\u001b[49m\u001b[43m,\u001b[49m\u001b[43m \u001b[49m\u001b[43mflags\u001b[49m\u001b[43m=\u001b[49m\u001b[43mflags\u001b[49m\u001b[43m,\u001b[49m\u001b[43m \u001b[49m\u001b[43mcopy\u001b[49m\u001b[43m=\u001b[49m\u001b[43mcopy\u001b[49m\u001b[43m,\u001b[49m\u001b[43m \u001b[49m\u001b[43mtrack\u001b[49m\u001b[43m=\u001b[49m\u001b[43mtrack\u001b[49m\u001b[43m)\u001b[49m\n",
      "\u001b[36mFile \u001b[39m\u001b[32m_zmq.py:1081\u001b[39m, in \u001b[36mzmq.backend.cython._zmq.Socket.send\u001b[39m\u001b[34m()\u001b[39m\n",
      "\u001b[36mFile \u001b[39m\u001b[32m_zmq.py:1129\u001b[39m, in \u001b[36mzmq.backend.cython._zmq.Socket.send\u001b[39m\u001b[34m()\u001b[39m\n",
      "\u001b[36mFile \u001b[39m\u001b[32m_zmq.py:1397\u001b[39m, in \u001b[36mzmq.backend.cython._zmq._send_copy\u001b[39m\u001b[34m()\u001b[39m\n",
      "\u001b[36mFile \u001b[39m\u001b[32m_zmq.py:169\u001b[39m, in \u001b[36mzmq.backend.cython._zmq._check_rc\u001b[39m\u001b[34m()\u001b[39m\n",
      "\u001b[31mKeyboardInterrupt\u001b[39m: "
     ]
    }
   ],
   "source": [
    "images = [] # stores actual image data\n",
    "labels = [] # stores labels (as integer - because this is what our network needs)\n",
    "#label_names = [] # maps label ints to their actual categories so we can understand predictions later\n",
    "\n",
    "# loop over all conditions\n",
    "# loop over all files in the condition's directory\n",
    "# read the image and corresponding annotation\n",
    "# crop image to the region of interest\n",
    "# preprocess image\n",
    "# store preprocessed image and label in corresponding lists\n",
    "for condition in CONDITIONS:\n",
    "    for filename in tqdm(os.listdir(f'{PATH}/{condition}')):\n",
    "        # extract unique ID from file name\n",
    "        UID = filename.split('.')[0]\n",
    "        img = cv2.imread(f'{PATH}/{condition}/{filename}')\n",
    "        \n",
    "        # get annotation from the dict we loaded earlier\n",
    "        try:\n",
    "            annotation = annotations[condition][UID]\n",
    "        except Exception as e:\n",
    "            print(e)\n",
    "            continue\n",
    "        \n",
    "        # iterate over all hands annotated in the image\n",
    "        for i, bbox in enumerate(annotation['bboxes']):\n",
    "            # annotated bounding boxes are in the range from 0 to 1\n",
    "            # therefore we have to scale them to the image size\n",
    "            x1 = int(bbox[0] * img.shape[1])\n",
    "            y1 = int(bbox[1] * img.shape[0])\n",
    "            w = int(bbox[2] * img.shape[1])\n",
    "            h = int(bbox[3] * img.shape[0])\n",
    "            x2 = x1 + w\n",
    "            y2 = y1 + h\n",
    "            \n",
    "            # crop image to the bounding box and apply pre-processing\n",
    "            crop = img[y1:y2, x1:x2]\n",
    "            preprocessed = preprocess_image(crop)\n",
    "            \n",
    "            # get the annotated hand's label\n",
    "            # if we have not seen this label yet, add it to the list of labels\n",
    "            label = annotation['labels'][i]\n",
    "\n",
    "            # Nur erlaubte Labels übernehmen\n",
    "            if label not in CONDITIONS:\n",
    "                print(f\"⚠️ Unbekanntes Label übersprungen: {label}\")\n",
    "                continue  # springe zum nächsten Datensatz\n",
    "\n",
    "            # label_names gar nicht mehr dynamisch erzeugen\n",
    "            label_index = CONDITIONS.index(label)\n",
    "\n",
    "            images.append(preprocessed)\n",
    "            labels.append(label_index)"
   ]
  },
  {
   "cell_type": "markdown",
   "id": "097ae97c-8dd4-48b7-8a94-bdc1fbe80346",
   "metadata": {},
   "source": [
    "## let's have a look at one of the images"
   ]
  },
  {
   "cell_type": "code",
   "execution_count": 14,
   "id": "a9b82f39-8412-4f5a-b074-d091fde3a88f",
   "metadata": {
    "tags": []
   },
   "outputs": [
    {
     "data": {
      "text/plain": [
       "<matplotlib.image.AxesImage at 0x2071943c080>"
      ]
     },
     "execution_count": 14,
     "metadata": {},
     "output_type": "execute_result"
    },
    {
     "data": {
      "image/png": "[encoded data removed]",
      "text/plain": [
       "<Figure size 640x480 with 1 Axes>"
      ]
     },
     "metadata": {},
     "output_type": "display_data"
    }
   ],
   "source": [
    "plt.imshow(random.sample(images, 1)[0])"
   ]
  },
  {
   "cell_type": "markdown",
   "id": "27443d4b-83d1-43d8-9f23-52859703ebd3",
   "metadata": {},
   "source": [
    "## split data set into train and test\n",
    "\n",
    "x is for the actual data, y is for the label (this is convention)"
   ]
  },
  {
   "cell_type": "code",
   "execution_count": 15,
   "id": "14fdf1c6-1722-42d7-a353-69cfbdf6d675",
   "metadata": {
    "tags": []
   },
   "outputs": [
    {
     "name": "stdout",
     "output_type": "stream",
     "text": [
      "1301\n",
      "326\n",
      "1301\n",
      "326\n"
     ]
    }
   ],
   "source": [
    "X_train, X_test, y_train, y_test = train_test_split(images, labels, test_size=0.2, random_state=42)\n",
    "\n",
    "print(len(X_train))\n",
    "print(len(X_test))\n",
    "print(len(y_train))\n",
    "print(len(y_test))"
   ]
  },
  {
   "cell_type": "markdown",
   "id": "7d160d5f-2bd9-4864-9a9e-d5525b55bde6",
   "metadata": {},
   "source": [
    "## transform data sets into a format compatible with our neural network\n",
    "\n",
    "image data has to be a numpy array with following dimensions: [image_id, y_axis, x_axis, color_channels]\n",
    "\n",
    "furthermore, scale all values to a range of 0 to 1\n",
    "\n",
    "training data has to be converted to a categorial vector (\"one hot\"):\n",
    "\n",
    "[3] --> [0, 0, 0, 1, 0, ..., 0]"
   ]
  },
  {
   "cell_type": "code",
   "execution_count": 16,
   "id": "243e3d2c-37ad-4596-a431-cdfd55151145",
   "metadata": {
    "tags": []
   },
   "outputs": [
    {
     "name": "stdout",
     "output_type": "stream",
     "text": [
      "(1301, 64, 64, 3) (326, 64, 64, 3) (1301, 6) (326, 6)\n"
     ]
    }
   ],
   "source": [
    "X_train = np.array(X_train).astype('float32')\n",
    "X_train = X_train / 255.\n",
    "\n",
    "X_test = np.array(X_test).astype('float32')\n",
    "X_test = X_test / 255.\n",
    "\n",
    "y_train_one_hot = to_categorical(y_train)\n",
    "y_test_one_hot = to_categorical(y_test)\n",
    "\n",
    "train_label = y_train_one_hot\n",
    "test_label = y_test_one_hot\n",
    "\n",
    "X_train = X_train.reshape(-1, IMG_SIZE, IMG_SIZE, COLOR_CHANNELS)\n",
    "X_test = X_test.reshape(-1, IMG_SIZE, IMG_SIZE, COLOR_CHANNELS)\n",
    "\n",
    "print(X_train.shape, X_test.shape, train_label.shape, test_label.shape)"
   ]
  },
  {
   "cell_type": "code",
   "execution_count": 17,
   "id": "489e2741-bb40-4501-819e-7a6c18ebcf17",
   "metadata": {
    "tags": []
   },
   "outputs": [
    {
     "name": "stderr",
     "output_type": "stream",
     "text": [
      "c:\\Users\\Marc\\AppData\\Local\\Programs\\Python\\Python312\\Lib\\site-packages\\keras\\src\\layers\\convolutional\\base_conv.py:113: UserWarning: Do not pass an `input_shape`/`input_dim` argument to a layer. When using Sequential models, prefer using an `Input(shape)` object as the first layer in the model instead.\n",
      "  super().__init__(activity_regularizer=activity_regularizer, **kwargs)\n"
     ]
    }
   ],
   "source": [
    "# variables for hyperparameters\n",
    "batch_size = 8\n",
    "epochs = 50\n",
    "num_classes = len(label_names)\n",
    "activation = 'leaky_relu'\n",
    "activation_conv = 'leaky_relu'  # LeakyReLU\n",
    "layer_count = 2\n",
    "num_neurons = 64\n",
    "\n",
    "# define model structure\n",
    "# with keras, we can use a model's add() function to add layers to the network one by one\n",
    "model = Sequential()\n",
    "\n",
    "# data augmentation (this can also be done beforehand - but don't augment the test dataset!)\n",
    "model.add(RandomFlip('horizontal'))\n",
    "model.add(RandomContrast(0.1))\n",
    "#model.add(RandomBrightness(0.1))\n",
    "#model.add(RandomRotation(0.2))\n",
    "\n",
    "# first, we add some convolution layers followed by max pooling\n",
    "model.add(Conv2D(64, kernel_size=(9, 9), activation=activation_conv, input_shape=(SIZE[0], SIZE[1], COLOR_CHANNELS), padding='same'))\n",
    "model.add(MaxPooling2D(pool_size=(4, 4), padding='same'))\n",
    "\n",
    "model.add(Conv2D(32, (5, 5), activation=activation_conv, padding='same'))\n",
    "model.add(MaxPooling2D(pool_size=(3, 3), padding='same'))\n",
    "\n",
    "model.add(Conv2D(32, (3, 3), activation=activation_conv, padding='same'))\n",
    "model.add(MaxPooling2D(pool_size=(2, 2), padding='same'))\n",
    "\n",
    "# dropout layers can drop part of the data during each epoch - this prevents overfitting\n",
    "model.add(Dropout(0.2))\n",
    "\n",
    "# after the convolution layers, we have to flatten the data so it can be fed into fully connected layers\n",
    "model.add(Flatten())\n",
    "\n",
    "# add some fully connected layers (\"Dense\")\n",
    "for i in range(layer_count - 1):\n",
    "    model.add(Dense(num_neurons, activation=activation))\n",
    "\n",
    "model.add(Dense(num_neurons, activation=activation))\n",
    "\n",
    "# for classification, the last layer has to use the softmax activation function, which gives us probabilities for each category\n",
    "model.add(Dense(num_classes, activation='softmax'))\n",
    "\n",
    "# specify loss function, optimizer and evaluation metrics\n",
    "# for classification, categorial crossentropy is used as a loss function\n",
    "# use the adam optimizer unless you have a good reason not to\n",
    "model.compile(loss=categorical_crossentropy, optimizer=\"adam\", metrics=['accuracy'])\n",
    "\n",
    "# define callback functions that react to the model's behavior during training\n",
    "# in this example, we reduce the learning rate once we get stuck and early stopping\n",
    "# to cancel the training if there are no improvements for a certain amount of epochs\n",
    "reduce_lr = ReduceLROnPlateau(monitor='val_loss', factor=0.2, patience=2, min_lr=0.0001)\n",
    "stop_early = EarlyStopping(monitor='val_loss', patience=3)"
   ]
  },
  {
   "cell_type": "markdown",
   "id": "c0401f45-19a6-4447-805c-50516dcad753",
   "metadata": {},
   "source": [
    "## now, we can train the model using the fit() function\n",
    "## this will take a while"
   ]
  },
  {
   "cell_type": "code",
   "execution_count": 18,
   "id": "71c4c865-ee8f-4385-8ae7-9d0f70802c9f",
   "metadata": {
    "tags": []
   },
   "outputs": [
    {
     "name": "stdout",
     "output_type": "stream",
     "text": [
      "Epoch 1/50\n",
      "\u001b[1m163/163\u001b[0m \u001b[32m━━━━━━━━━━━━━━━━━━━━\u001b[0m\u001b[37m\u001b[0m \u001b[1m53s\u001b[0m 285ms/step - accuracy: 0.1754 - loss: 1.8118 - val_accuracy: 0.2699 - val_loss: 1.8062 - learning_rate: 0.0010\n",
      "Epoch 2/50\n",
      "\u001b[1m163/163\u001b[0m \u001b[32m━━━━━━━━━━━━━━━━━━━━\u001b[0m\u001b[37m\u001b[0m \u001b[1m64s\u001b[0m 393ms/step - accuracy: 0.2995 - loss: 1.7232 - val_accuracy: 0.4785 - val_loss: 1.3996 - learning_rate: 0.0010\n",
      "Epoch 3/50\n",
      "\u001b[1m163/163\u001b[0m \u001b[32m━━━━━━━━━━━━━━━━━━━━\u001b[0m\u001b[37m\u001b[0m \u001b[1m60s\u001b[0m 366ms/step - accuracy: 0.4258 - loss: 1.4276 - val_accuracy: 0.5828 - val_loss: 1.0725 - learning_rate: 0.0010\n",
      "Epoch 4/50\n",
      "\u001b[1m163/163\u001b[0m \u001b[32m━━━━━━━━━━━━━━━━━━━━\u001b[0m\u001b[37m\u001b[0m \u001b[1m42s\u001b[0m 258ms/step - accuracy: 0.6042 - loss: 1.0407 - val_accuracy: 0.6933 - val_loss: 0.7997 - learning_rate: 0.0010\n",
      "Epoch 5/50\n",
      "\u001b[1m163/163\u001b[0m \u001b[32m━━━━━━━━━━━━━━━━━━━━\u001b[0m\u001b[37m\u001b[0m \u001b[1m54s\u001b[0m 330ms/step - accuracy: 0.7134 - loss: 0.8103 - val_accuracy: 0.7270 - val_loss: 0.7213 - learning_rate: 0.0010\n",
      "Epoch 6/50\n",
      "\u001b[1m163/163\u001b[0m \u001b[32m━━━━━━━━━━━━━━━━━━━━\u001b[0m\u001b[37m\u001b[0m \u001b[1m67s\u001b[0m 234ms/step - accuracy: 0.7698 - loss: 0.6184 - val_accuracy: 0.8344 - val_loss: 0.4922 - learning_rate: 0.0010\n",
      "Epoch 7/50\n",
      "\u001b[1m163/163\u001b[0m \u001b[32m━━━━━━━━━━━━━━━━━━━━\u001b[0m\u001b[37m\u001b[0m \u001b[1m38s\u001b[0m 235ms/step - accuracy: 0.8571 - loss: 0.4514 - val_accuracy: 0.8006 - val_loss: 0.5131 - learning_rate: 0.0010\n",
      "Epoch 8/50\n",
      "\u001b[1m163/163\u001b[0m \u001b[32m━━━━━━━━━━━━━━━━━━━━\u001b[0m\u001b[37m\u001b[0m \u001b[1m39s\u001b[0m 240ms/step - accuracy: 0.8754 - loss: 0.3761 - val_accuracy: 0.8282 - val_loss: 0.4733 - learning_rate: 0.0010\n",
      "Epoch 9/50\n",
      "\u001b[1m163/163\u001b[0m \u001b[32m━━━━━━━━━━━━━━━━━━━━\u001b[0m\u001b[37m\u001b[0m \u001b[1m55s\u001b[0m 329ms/step - accuracy: 0.8642 - loss: 0.3882 - val_accuracy: 0.8620 - val_loss: 0.3708 - learning_rate: 0.0010\n",
      "Epoch 10/50\n",
      "\u001b[1m163/163\u001b[0m \u001b[32m━━━━━━━━━━━━━━━━━━━━\u001b[0m\u001b[37m\u001b[0m \u001b[1m56s\u001b[0m 345ms/step - accuracy: 0.8900 - loss: 0.2899 - val_accuracy: 0.8252 - val_loss: 0.4732 - learning_rate: 0.0010\n",
      "Epoch 11/50\n",
      "\u001b[1m163/163\u001b[0m \u001b[32m━━━━━━━━━━━━━━━━━━━━\u001b[0m\u001b[37m\u001b[0m \u001b[1m48s\u001b[0m 294ms/step - accuracy: 0.9122 - loss: 0.2547 - val_accuracy: 0.8773 - val_loss: 0.3516 - learning_rate: 0.0010\n",
      "Epoch 12/50\n",
      "\u001b[1m163/163\u001b[0m \u001b[32m━━━━━━━━━━━━━━━━━━━━\u001b[0m\u001b[37m\u001b[0m \u001b[1m85s\u001b[0m 310ms/step - accuracy: 0.9288 - loss: 0.1912 - val_accuracy: 0.8865 - val_loss: 0.3305 - learning_rate: 0.0010\n",
      "Epoch 13/50\n",
      "\u001b[1m163/163\u001b[0m \u001b[32m━━━━━━━━━━━━━━━━━━━━\u001b[0m\u001b[37m\u001b[0m \u001b[1m79s\u001b[0m 287ms/step - accuracy: 0.9108 - loss: 0.2561 - val_accuracy: 0.8466 - val_loss: 0.5213 - learning_rate: 0.0010\n",
      "Epoch 14/50\n",
      "\u001b[1m163/163\u001b[0m \u001b[32m━━━━━━━━━━━━━━━━━━━━\u001b[0m\u001b[37m\u001b[0m \u001b[1m45s\u001b[0m 277ms/step - accuracy: 0.9313 - loss: 0.2357 - val_accuracy: 0.9172 - val_loss: 0.2232 - learning_rate: 0.0010\n",
      "Epoch 15/50\n",
      "\u001b[1m163/163\u001b[0m \u001b[32m━━━━━━━━━━━━━━━━━━━━\u001b[0m\u001b[37m\u001b[0m \u001b[1m50s\u001b[0m 306ms/step - accuracy: 0.9417 - loss: 0.1879 - val_accuracy: 0.8988 - val_loss: 0.3219 - learning_rate: 0.0010\n",
      "Epoch 16/50\n",
      "\u001b[1m163/163\u001b[0m \u001b[32m━━━━━━━━━━━━━━━━━━━━\u001b[0m\u001b[37m\u001b[0m \u001b[1m46s\u001b[0m 284ms/step - accuracy: 0.9172 - loss: 0.2393 - val_accuracy: 0.9018 - val_loss: 0.2999 - learning_rate: 0.0010\n",
      "Epoch 17/50\n",
      "\u001b[1m163/163\u001b[0m \u001b[32m━━━━━━━━━━━━━━━━━━━━\u001b[0m\u001b[37m\u001b[0m \u001b[1m92s\u001b[0m 343ms/step - accuracy: 0.9430 - loss: 0.1659 - val_accuracy: 0.9294 - val_loss: 0.2016 - learning_rate: 2.0000e-04\n",
      "Epoch 18/50\n",
      "\u001b[1m163/163\u001b[0m \u001b[32m━━━━━━━━━━━━━━━━━━━━\u001b[0m\u001b[37m\u001b[0m \u001b[1m75s\u001b[0m 294ms/step - accuracy: 0.9758 - loss: 0.0777 - val_accuracy: 0.9448 - val_loss: 0.1694 - learning_rate: 2.0000e-04\n",
      "Epoch 19/50\n",
      "\u001b[1m163/163\u001b[0m \u001b[32m━━━━━━━━━━━━━━━━━━━━\u001b[0m\u001b[37m\u001b[0m \u001b[1m81s\u001b[0m 288ms/step - accuracy: 0.9781 - loss: 0.0624 - val_accuracy: 0.9448 - val_loss: 0.1857 - learning_rate: 2.0000e-04\n",
      "Epoch 20/50\n",
      "\u001b[1m163/163\u001b[0m \u001b[32m━━━━━━━━━━━━━━━━━━━━\u001b[0m\u001b[37m\u001b[0m \u001b[1m48s\u001b[0m 295ms/step - accuracy: 0.9806 - loss: 0.0496 - val_accuracy: 0.9417 - val_loss: 0.1736 - learning_rate: 2.0000e-04\n",
      "Epoch 21/50\n",
      "\u001b[1m163/163\u001b[0m \u001b[32m━━━━━━━━━━━━━━━━━━━━\u001b[0m\u001b[37m\u001b[0m \u001b[1m82s\u001b[0m 295ms/step - accuracy: 0.9819 - loss: 0.0443 - val_accuracy: 0.9448 - val_loss: 0.1790 - learning_rate: 1.0000e-04\n"
     ]
    }
   ],
   "source": [
    "history = model.fit(\n",
    "    X_train,\n",
    "    train_label,\n",
    "    batch_size=batch_size,\n",
    "    epochs=epochs,\n",
    "    verbose=1,\n",
    "    validation_data=(X_test, test_label),\n",
    "    callbacks=[reduce_lr, stop_early]\n",
    ")"
   ]
  },
  {
   "cell_type": "code",
   "execution_count": 19,
   "id": "abaadcde-ab15-4e1c-bbab-cf359fba6325",
   "metadata": {
    "tags": []
   },
   "outputs": [
    {
     "data": {
      "text/html": [
       "<pre style=\"white-space:pre;overflow-x:auto;line-height:normal;font-family:Menlo,'DejaVu Sans Mono',consolas,'Courier New',monospace\"><span style=\"font-weight: bold\">Model: \"sequential\"</span>\n",
       "</pre>\n"
      ],
      "text/plain": [
       "\u001b[1mModel: \"sequential\"\u001b[0m\n"
      ]
     },
     "metadata": {},
     "output_type": "display_data"
    },
    {
     "data": {
      "text/html": [
       "<pre style=\"white-space:pre;overflow-x:auto;line-height:normal;font-family:Menlo,'DejaVu Sans Mono',consolas,'Courier New',monospace\">┏━━━━━━━━━━━━━━━━━━━━━━━━━━━━━━━━━┳━━━━━━━━━━━━━━━━━━━━━━━━┳━━━━━━━━━━━━━━━┓\n",
       "┃<span style=\"font-weight: bold\"> Layer (type)                    </span>┃<span style=\"font-weight: bold\"> Output Shape           </span>┃<span style=\"font-weight: bold\">       Param # </span>┃\n",
       "┡━━━━━━━━━━━━━━━━━━━━━━━━━━━━━━━━━╇━━━━━━━━━━━━━━━━━━━━━━━━╇━━━━━━━━━━━━━━━┩\n",
       "│ random_flip (<span style=\"color: #0087ff; text-decoration-color: #0087ff\">RandomFlip</span>)        │ (<span style=\"color: #00d7ff; text-decoration-color: #00d7ff\">None</span>, <span style=\"color: #00af00; text-decoration-color: #00af00\">64</span>, <span style=\"color: #00af00; text-decoration-color: #00af00\">64</span>, <span style=\"color: #00af00; text-decoration-color: #00af00\">3</span>)      │             <span style=\"color: #00af00; text-decoration-color: #00af00\">0</span> │\n",
       "├─────────────────────────────────┼────────────────────────┼───────────────┤\n",
       "│ random_contrast                 │ (<span style=\"color: #00d7ff; text-decoration-color: #00d7ff\">None</span>, <span style=\"color: #00af00; text-decoration-color: #00af00\">64</span>, <span style=\"color: #00af00; text-decoration-color: #00af00\">64</span>, <span style=\"color: #00af00; text-decoration-color: #00af00\">3</span>)      │             <span style=\"color: #00af00; text-decoration-color: #00af00\">0</span> │\n",
       "│ (<span style=\"color: #0087ff; text-decoration-color: #0087ff\">RandomContrast</span>)                │                        │               │\n",
       "├─────────────────────────────────┼────────────────────────┼───────────────┤\n",
       "│ conv2d (<span style=\"color: #0087ff; text-decoration-color: #0087ff\">Conv2D</span>)                 │ (<span style=\"color: #00d7ff; text-decoration-color: #00d7ff\">None</span>, <span style=\"color: #00af00; text-decoration-color: #00af00\">64</span>, <span style=\"color: #00af00; text-decoration-color: #00af00\">64</span>, <span style=\"color: #00af00; text-decoration-color: #00af00\">64</span>)     │        <span style=\"color: #00af00; text-decoration-color: #00af00\">15,616</span> │\n",
       "├─────────────────────────────────┼────────────────────────┼───────────────┤\n",
       "│ max_pooling2d (<span style=\"color: #0087ff; text-decoration-color: #0087ff\">MaxPooling2D</span>)    │ (<span style=\"color: #00d7ff; text-decoration-color: #00d7ff\">None</span>, <span style=\"color: #00af00; text-decoration-color: #00af00\">16</span>, <span style=\"color: #00af00; text-decoration-color: #00af00\">16</span>, <span style=\"color: #00af00; text-decoration-color: #00af00\">64</span>)     │             <span style=\"color: #00af00; text-decoration-color: #00af00\">0</span> │\n",
       "├─────────────────────────────────┼────────────────────────┼───────────────┤\n",
       "│ conv2d_1 (<span style=\"color: #0087ff; text-decoration-color: #0087ff\">Conv2D</span>)               │ (<span style=\"color: #00d7ff; text-decoration-color: #00d7ff\">None</span>, <span style=\"color: #00af00; text-decoration-color: #00af00\">16</span>, <span style=\"color: #00af00; text-decoration-color: #00af00\">16</span>, <span style=\"color: #00af00; text-decoration-color: #00af00\">32</span>)     │        <span style=\"color: #00af00; text-decoration-color: #00af00\">51,232</span> │\n",
       "├─────────────────────────────────┼────────────────────────┼───────────────┤\n",
       "│ max_pooling2d_1 (<span style=\"color: #0087ff; text-decoration-color: #0087ff\">MaxPooling2D</span>)  │ (<span style=\"color: #00d7ff; text-decoration-color: #00d7ff\">None</span>, <span style=\"color: #00af00; text-decoration-color: #00af00\">6</span>, <span style=\"color: #00af00; text-decoration-color: #00af00\">6</span>, <span style=\"color: #00af00; text-decoration-color: #00af00\">32</span>)       │             <span style=\"color: #00af00; text-decoration-color: #00af00\">0</span> │\n",
       "├─────────────────────────────────┼────────────────────────┼───────────────┤\n",
       "│ conv2d_2 (<span style=\"color: #0087ff; text-decoration-color: #0087ff\">Conv2D</span>)               │ (<span style=\"color: #00d7ff; text-decoration-color: #00d7ff\">None</span>, <span style=\"color: #00af00; text-decoration-color: #00af00\">6</span>, <span style=\"color: #00af00; text-decoration-color: #00af00\">6</span>, <span style=\"color: #00af00; text-decoration-color: #00af00\">32</span>)       │         <span style=\"color: #00af00; text-decoration-color: #00af00\">9,248</span> │\n",
       "├─────────────────────────────────┼────────────────────────┼───────────────┤\n",
       "│ max_pooling2d_2 (<span style=\"color: #0087ff; text-decoration-color: #0087ff\">MaxPooling2D</span>)  │ (<span style=\"color: #00d7ff; text-decoration-color: #00d7ff\">None</span>, <span style=\"color: #00af00; text-decoration-color: #00af00\">3</span>, <span style=\"color: #00af00; text-decoration-color: #00af00\">3</span>, <span style=\"color: #00af00; text-decoration-color: #00af00\">32</span>)       │             <span style=\"color: #00af00; text-decoration-color: #00af00\">0</span> │\n",
       "├─────────────────────────────────┼────────────────────────┼───────────────┤\n",
       "│ dropout (<span style=\"color: #0087ff; text-decoration-color: #0087ff\">Dropout</span>)               │ (<span style=\"color: #00d7ff; text-decoration-color: #00d7ff\">None</span>, <span style=\"color: #00af00; text-decoration-color: #00af00\">3</span>, <span style=\"color: #00af00; text-decoration-color: #00af00\">3</span>, <span style=\"color: #00af00; text-decoration-color: #00af00\">32</span>)       │             <span style=\"color: #00af00; text-decoration-color: #00af00\">0</span> │\n",
       "├─────────────────────────────────┼────────────────────────┼───────────────┤\n",
       "│ flatten (<span style=\"color: #0087ff; text-decoration-color: #0087ff\">Flatten</span>)               │ (<span style=\"color: #00d7ff; text-decoration-color: #00d7ff\">None</span>, <span style=\"color: #00af00; text-decoration-color: #00af00\">288</span>)            │             <span style=\"color: #00af00; text-decoration-color: #00af00\">0</span> │\n",
       "├─────────────────────────────────┼────────────────────────┼───────────────┤\n",
       "│ dense (<span style=\"color: #0087ff; text-decoration-color: #0087ff\">Dense</span>)                   │ (<span style=\"color: #00d7ff; text-decoration-color: #00d7ff\">None</span>, <span style=\"color: #00af00; text-decoration-color: #00af00\">64</span>)             │        <span style=\"color: #00af00; text-decoration-color: #00af00\">18,496</span> │\n",
       "├─────────────────────────────────┼────────────────────────┼───────────────┤\n",
       "│ dense_1 (<span style=\"color: #0087ff; text-decoration-color: #0087ff\">Dense</span>)                 │ (<span style=\"color: #00d7ff; text-decoration-color: #00d7ff\">None</span>, <span style=\"color: #00af00; text-decoration-color: #00af00\">64</span>)             │         <span style=\"color: #00af00; text-decoration-color: #00af00\">4,160</span> │\n",
       "├─────────────────────────────────┼────────────────────────┼───────────────┤\n",
       "│ dense_2 (<span style=\"color: #0087ff; text-decoration-color: #0087ff\">Dense</span>)                 │ (<span style=\"color: #00d7ff; text-decoration-color: #00d7ff\">None</span>, <span style=\"color: #00af00; text-decoration-color: #00af00\">6</span>)              │           <span style=\"color: #00af00; text-decoration-color: #00af00\">390</span> │\n",
       "└─────────────────────────────────┴────────────────────────┴───────────────┘\n",
       "</pre>\n"
      ],
      "text/plain": [
       "┏━━━━━━━━━━━━━━━━━━━━━━━━━━━━━━━━━┳━━━━━━━━━━━━━━━━━━━━━━━━┳━━━━━━━━━━━━━━━┓\n",
       "┃\u001b[1m \u001b[0m\u001b[1mLayer (type)                   \u001b[0m\u001b[1m \u001b[0m┃\u001b[1m \u001b[0m\u001b[1mOutput Shape          \u001b[0m\u001b[1m \u001b[0m┃\u001b[1m \u001b[0m\u001b[1m      Param #\u001b[0m\u001b[1m \u001b[0m┃\n",
       "┡━━━━━━━━━━━━━━━━━━━━━━━━━━━━━━━━━╇━━━━━━━━━━━━━━━━━━━━━━━━╇━━━━━━━━━━━━━━━┩\n",
       "│ random_flip (\u001b[38;5;33mRandomFlip\u001b[0m)        │ (\u001b[38;5;45mNone\u001b[0m, \u001b[38;5;34m64\u001b[0m, \u001b[38;5;34m64\u001b[0m, \u001b[38;5;34m3\u001b[0m)      │             \u001b[38;5;34m0\u001b[0m │\n",
       "├─────────────────────────────────┼────────────────────────┼───────────────┤\n",
       "│ random_contrast                 │ (\u001b[38;5;45mNone\u001b[0m, \u001b[38;5;34m64\u001b[0m, \u001b[38;5;34m64\u001b[0m, \u001b[38;5;34m3\u001b[0m)      │             \u001b[38;5;34m0\u001b[0m │\n",
       "│ (\u001b[38;5;33mRandomContrast\u001b[0m)                │                        │               │\n",
       "├─────────────────────────────────┼────────────────────────┼───────────────┤\n",
       "│ conv2d (\u001b[38;5;33mConv2D\u001b[0m)                 │ (\u001b[38;5;45mNone\u001b[0m, \u001b[38;5;34m64\u001b[0m, \u001b[38;5;34m64\u001b[0m, \u001b[38;5;34m64\u001b[0m)     │        \u001b[38;5;34m15,616\u001b[0m │\n",
       "├─────────────────────────────────┼────────────────────────┼───────────────┤\n",
       "│ max_pooling2d (\u001b[38;5;33mMaxPooling2D\u001b[0m)    │ (\u001b[38;5;45mNone\u001b[0m, \u001b[38;5;34m16\u001b[0m, \u001b[38;5;34m16\u001b[0m, \u001b[38;5;34m64\u001b[0m)     │             \u001b[38;5;34m0\u001b[0m │\n",
       "├─────────────────────────────────┼────────────────────────┼───────────────┤\n",
       "│ conv2d_1 (\u001b[38;5;33mConv2D\u001b[0m)               │ (\u001b[38;5;45mNone\u001b[0m, \u001b[38;5;34m16\u001b[0m, \u001b[38;5;34m16\u001b[0m, \u001b[38;5;34m32\u001b[0m)     │        \u001b[38;5;34m51,232\u001b[0m │\n",
       "├─────────────────────────────────┼────────────────────────┼───────────────┤\n",
       "│ max_pooling2d_1 (\u001b[38;5;33mMaxPooling2D\u001b[0m)  │ (\u001b[38;5;45mNone\u001b[0m, \u001b[38;5;34m6\u001b[0m, \u001b[38;5;34m6\u001b[0m, \u001b[38;5;34m32\u001b[0m)       │             \u001b[38;5;34m0\u001b[0m │\n",
       "├─────────────────────────────────┼────────────────────────┼───────────────┤\n",
       "│ conv2d_2 (\u001b[38;5;33mConv2D\u001b[0m)               │ (\u001b[38;5;45mNone\u001b[0m, \u001b[38;5;34m6\u001b[0m, \u001b[38;5;34m6\u001b[0m, \u001b[38;5;34m32\u001b[0m)       │         \u001b[38;5;34m9,248\u001b[0m │\n",
       "├─────────────────────────────────┼────────────────────────┼───────────────┤\n",
       "│ max_pooling2d_2 (\u001b[38;5;33mMaxPooling2D\u001b[0m)  │ (\u001b[38;5;45mNone\u001b[0m, \u001b[38;5;34m3\u001b[0m, \u001b[38;5;34m3\u001b[0m, \u001b[38;5;34m32\u001b[0m)       │             \u001b[38;5;34m0\u001b[0m │\n",
       "├─────────────────────────────────┼────────────────────────┼───────────────┤\n",
       "│ dropout (\u001b[38;5;33mDropout\u001b[0m)               │ (\u001b[38;5;45mNone\u001b[0m, \u001b[38;5;34m3\u001b[0m, \u001b[38;5;34m3\u001b[0m, \u001b[38;5;34m32\u001b[0m)       │             \u001b[38;5;34m0\u001b[0m │\n",
       "├─────────────────────────────────┼────────────────────────┼───────────────┤\n",
       "│ flatten (\u001b[38;5;33mFlatten\u001b[0m)               │ (\u001b[38;5;45mNone\u001b[0m, \u001b[38;5;34m288\u001b[0m)            │             \u001b[38;5;34m0\u001b[0m │\n",
       "├─────────────────────────────────┼────────────────────────┼───────────────┤\n",
       "│ dense (\u001b[38;5;33mDense\u001b[0m)                   │ (\u001b[38;5;45mNone\u001b[0m, \u001b[38;5;34m64\u001b[0m)             │        \u001b[38;5;34m18,496\u001b[0m │\n",
       "├─────────────────────────────────┼────────────────────────┼───────────────┤\n",
       "│ dense_1 (\u001b[38;5;33mDense\u001b[0m)                 │ (\u001b[38;5;45mNone\u001b[0m, \u001b[38;5;34m64\u001b[0m)             │         \u001b[38;5;34m4,160\u001b[0m │\n",
       "├─────────────────────────────────┼────────────────────────┼───────────────┤\n",
       "│ dense_2 (\u001b[38;5;33mDense\u001b[0m)                 │ (\u001b[38;5;45mNone\u001b[0m, \u001b[38;5;34m6\u001b[0m)              │           \u001b[38;5;34m390\u001b[0m │\n",
       "└─────────────────────────────────┴────────────────────────┴───────────────┘\n"
      ]
     },
     "metadata": {},
     "output_type": "display_data"
    },
    {
     "data": {
      "text/html": [
       "<pre style=\"white-space:pre;overflow-x:auto;line-height:normal;font-family:Menlo,'DejaVu Sans Mono',consolas,'Courier New',monospace\"><span style=\"font-weight: bold\"> Total params: </span><span style=\"color: #00af00; text-decoration-color: #00af00\">297,428</span> (1.13 MB)\n",
       "</pre>\n"
      ],
      "text/plain": [
       "\u001b[1m Total params: \u001b[0m\u001b[38;5;34m297,428\u001b[0m (1.13 MB)\n"
      ]
     },
     "metadata": {},
     "output_type": "display_data"
    },
    {
     "data": {
      "text/html": [
       "<pre style=\"white-space:pre;overflow-x:auto;line-height:normal;font-family:Menlo,'DejaVu Sans Mono',consolas,'Courier New',monospace\"><span style=\"font-weight: bold\"> Trainable params: </span><span style=\"color: #00af00; text-decoration-color: #00af00\">99,142</span> (387.27 KB)\n",
       "</pre>\n"
      ],
      "text/plain": [
       "\u001b[1m Trainable params: \u001b[0m\u001b[38;5;34m99,142\u001b[0m (387.27 KB)\n"
      ]
     },
     "metadata": {},
     "output_type": "display_data"
    },
    {
     "data": {
      "text/html": [
       "<pre style=\"white-space:pre;overflow-x:auto;line-height:normal;font-family:Menlo,'DejaVu Sans Mono',consolas,'Courier New',monospace\"><span style=\"font-weight: bold\"> Non-trainable params: </span><span style=\"color: #00af00; text-decoration-color: #00af00\">0</span> (0.00 B)\n",
       "</pre>\n"
      ],
      "text/plain": [
       "\u001b[1m Non-trainable params: \u001b[0m\u001b[38;5;34m0\u001b[0m (0.00 B)\n"
      ]
     },
     "metadata": {},
     "output_type": "display_data"
    },
    {
     "data": {
      "text/html": [
       "<pre style=\"white-space:pre;overflow-x:auto;line-height:normal;font-family:Menlo,'DejaVu Sans Mono',consolas,'Courier New',monospace\"><span style=\"font-weight: bold\"> Optimizer params: </span><span style=\"color: #00af00; text-decoration-color: #00af00\">198,286</span> (774.56 KB)\n",
       "</pre>\n"
      ],
      "text/plain": [
       "\u001b[1m Optimizer params: \u001b[0m\u001b[38;5;34m198,286\u001b[0m (774.56 KB)\n"
      ]
     },
     "metadata": {},
     "output_type": "display_data"
    }
   ],
   "source": [
    "# let's have a look at our model\n",
    "model.summary()"
   ]
  },
  {
   "cell_type": "markdown",
   "id": "a30ac212-8bd0-4a2d-9f9e-4a137d020645",
   "metadata": {},
   "source": [
    "## Plot accuracy and loss of the training process"
   ]
  },
  {
   "cell_type": "code",
   "execution_count": 20,
   "id": "275092f5-84e2-4a26-850d-3b267f91fe27",
   "metadata": {
    "tags": []
   },
   "outputs": [
    {
     "data": {
      "text/plain": [
       "[<matplotlib.lines.Line2D at 0x2071ca3d160>]"
      ]
     },
     "execution_count": 20,
     "metadata": {},
     "output_type": "execute_result"
    },
    {
     "data": {
      "image/png": "[encoded data removed]",
      "text/plain": [
       "<Figure size 1500x700 with 1 Axes>"
      ]
     },
     "metadata": {},
     "output_type": "display_data"
    }
   ],
   "source": [
    "loss = history.history['loss']\n",
    "val_loss = history.history['val_loss']\n",
    "accuracy = history.history['accuracy']\n",
    "val_accuracy = history.history['val_accuracy']\n",
    "\n",
    "fig = plt.figure(figsize=(15, 7))\n",
    "ax = plt.gca()\n",
    "\n",
    "ax.set_xlabel('Epoch')\n",
    "ax.set_ylabel('Accuracy (Line), Loss (Dashes)')\n",
    "\n",
    "ax.axhline(1, color='gray')\n",
    "\n",
    "plt.plot(accuracy, color='blue')\n",
    "plt.plot(val_accuracy, color='orange')\n",
    "plt.plot(loss, '--', color='blue', alpha=0.5)\n",
    "plt.plot(val_loss, '--', color='orange', alpha=0.5)"
   ]
  },
  {
   "cell_type": "markdown",
   "id": "b63f0a8e-d384-4790-bb47-889224eb2130",
   "metadata": {},
   "source": [
    "## saving the model\n",
    "\n",
    "the function will create a directory for your model and save structure and weights in there\n",
    "\n",
    "sometimes you will see the .h5 format being used - even though this is a bit faster and needs less space, it comes with its limitations and isn't used that much any more"
   ]
  },
  {
   "cell_type": "code",
   "execution_count": 21,
   "id": "304f21c0-6fed-430b-9f96-1c75ccf5bee5",
   "metadata": {
    "tags": []
   },
   "outputs": [],
   "source": [
    "model.save('gesture_recognition.keras')\n",
    "\n",
    "# and this is how you load the model\n",
    "# model = keras.models.load_model(\"gesture_recognition\")"
   ]
  },
  {
   "cell_type": "markdown",
   "id": "973e93ab",
   "metadata": {},
   "source": [
    "## Neues Dataset laden und Preprocessen"
   ]
  },
  {
   "cell_type": "code",
   "execution_count": 9,
   "id": "a4a1306f",
   "metadata": {},
   "outputs": [],
   "source": [
    "NEW_DATASET_PATH = 'marc_dataset'\n",
    "\n",
    "# Gesamtdatei laden\n",
    "with open(f'{NEW_DATASET_PATH}/annot-marc.json') as f:\n",
    "    unsorted_annotations = json.load(f)\n",
    "\n",
    "# Einträge nach Label (Condition) filtern\n",
    "annotations_marc = {condition: {} for condition in CONDITIONS}\n",
    "\n",
    "for key, value in unsorted_annotations.items():\n",
    "    labels = value.get(\"labels\", [])\n",
    "    for label in labels:\n",
    "        if label in CONDITIONS:\n",
    "            annotations_marc[label][key] = value"
   ]
  },
  {
   "cell_type": "code",
   "execution_count": 24,
   "id": "b0adec23",
   "metadata": {},
   "outputs": [
    {
     "name": "stdout",
     "output_type": "stream",
     "text": [
      "{\n",
      "  \"bboxes\": [\n",
      "    [\n",
      "      0.23020833,\n",
      "      0.52592593,\n",
      "      0.134375,\n",
      "      0.27222222\n",
      "    ]\n",
      "  ],\n",
      "  \"labels\": [\n",
      "    \"like\"\n",
      "  ],\n",
      "  \"landmarks\": [\n",
      "    []\n",
      "  ],\n",
      "  \"leading_conf\": 1.0,\n",
      "  \"leading_hand\": \"right\",\n",
      "  \"user_id\": \"flm05277\"\n",
      "}\n"
     ]
    }
   ],
   "source": [
    "print(json.dumps(annotations_marc['like']['c463014d-64f4-43c5-a652-3db9565c8605'], indent=2))"
   ]
  },
  {
   "cell_type": "code",
   "execution_count": 10,
   "id": "00ec87c1",
   "metadata": {},
   "outputs": [
    {
     "data": {
      "application/vnd.jupyter.widget-view+json": {
       "model_id": "b3aa9df52ecb425185deda8dd124f8cb",
       "version_major": 2,
       "version_minor": 0
      },
      "text/plain": [
       "  0%|          | 0/3 [00:00<?, ?it/s]"
      ]
     },
     "metadata": {},
     "output_type": "display_data"
    },
    {
     "data": {
      "application/vnd.jupyter.widget-view+json": {
       "model_id": "98bc9d37d94e4e66b4142590b6c655ee",
       "version_major": 2,
       "version_minor": 0
      },
      "text/plain": [
       "  0%|          | 0/3 [00:00<?, ?it/s]"
      ]
     },
     "metadata": {},
     "output_type": "display_data"
    },
    {
     "data": {
      "application/vnd.jupyter.widget-view+json": {
       "model_id": "f7687e1cdf4743cc9492087b3c56a752",
       "version_major": 2,
       "version_minor": 0
      },
      "text/plain": [
       "  0%|          | 0/3 [00:00<?, ?it/s]"
      ]
     },
     "metadata": {},
     "output_type": "display_data"
    },
    {
     "data": {
      "application/vnd.jupyter.widget-view+json": {
       "model_id": "54e3c657407b4e31863c96dfab33a6c5",
       "version_major": 2,
       "version_minor": 0
      },
      "text/plain": [
       "  0%|          | 0/3 [00:00<?, ?it/s]"
      ]
     },
     "metadata": {},
     "output_type": "display_data"
    },
    {
     "data": {
      "application/vnd.jupyter.widget-view+json": {
       "model_id": "a8df9fb9e08b4f868958c61b6f2397ed",
       "version_major": 2,
       "version_minor": 0
      },
      "text/plain": [
       "  0%|          | 0/3 [00:00<?, ?it/s]"
      ]
     },
     "metadata": {},
     "output_type": "display_data"
    }
   ],
   "source": [
    "\n",
    "images_marc = [] # stores actual image data\n",
    "labels_marc = [] # stores labels (as integer - because this is what our network needs)\n",
    "label_names = [] # maps label ints to their actual categories so we can understand predictions later\n",
    "\n",
    "# loop over all conditions\n",
    "# loop over all files in the condition's directory\n",
    "# read the image and corresponding annotation\n",
    "# crop image to the region of interest\n",
    "# preprocess image\n",
    "# store preprocessed image and label in corresponding lists\n",
    "for condition in CONDITIONS:\n",
    "    for filename in tqdm(os.listdir(f'{NEW_DATASET_PATH}/{condition}')):\n",
    "        # extract unique ID from file name\n",
    "        UID = filename.split('.')[0]\n",
    "        img = cv2.imread(f'{NEW_DATASET_PATH}/{condition}/{filename}')\n",
    "        \n",
    "        # get annotation from the dict we loaded earlier\n",
    "        try:\n",
    "            annotation = annotations_marc[condition][UID]\n",
    "        except Exception as e:\n",
    "            print(e)\n",
    "            continue\n",
    "        \n",
    "        # iterate over all hands annotated in the image\n",
    "        for i, bbox in enumerate(annotation['bboxes']):\n",
    "            # annotated bounding boxes are in the range from 0 to 1\n",
    "            # therefore we have to scale them to the image size\n",
    "            x1 = int(bbox[0] * img.shape[1])\n",
    "            y1 = int(bbox[1] * img.shape[0])\n",
    "            w = int(bbox[2] * img.shape[1])\n",
    "            h = int(bbox[3] * img.shape[0])\n",
    "            x2 = x1 + w\n",
    "            y2 = y1 + h\n",
    "            \n",
    "            # crop image to the bounding box and apply pre-processing\n",
    "            crop = img[y1:y2, x1:x2]\n",
    "            preprocessed = preprocess_image(crop)\n",
    "            \n",
    "            # get the annotated hand's label\n",
    "            # if we have not seen this label yet, add it to the list of labels\n",
    "            label = annotation['labels'][i]\n",
    "            if label not in label_names:\n",
    "                label_names.append(label)\n",
    "            \n",
    "            label_index = label_names.index(label)\n",
    "            \n",
    "            images_marc.append(preprocessed)\n",
    "            labels_marc.append(label_index)"
   ]
  },
  {
   "cell_type": "code",
   "execution_count": 31,
   "id": "d72d0c23",
   "metadata": {},
   "outputs": [
    {
     "data": {
      "text/plain": [
       "<matplotlib.image.AxesImage at 0x20724643c50>"
      ]
     },
     "execution_count": 31,
     "metadata": {},
     "output_type": "execute_result"
    },
    {
     "data": {
      "image/png": "[encoded data removed]",
      "text/plain": [
       "<Figure size 640x480 with 1 Axes>"
      ]
     },
     "metadata": {},
     "output_type": "display_data"
    }
   ],
   "source": [
    "plt.imshow(random.sample(images_marc, 1)[0])"
   ]
  },
  {
   "cell_type": "code",
   "execution_count": 11,
   "id": "f7f699f5",
   "metadata": {},
   "outputs": [
    {
     "name": "stdout",
     "output_type": "stream",
     "text": [
      "(15, 64, 64, 3) (15, 5)\n"
     ]
    }
   ],
   "source": [
    "X_marc = images_marc\n",
    "y_marc = labels_marc\n",
    "\n",
    "X_marc = np.array(X_marc).astype('float32')\n",
    "X_marc = X_marc / 255.\n",
    "\n",
    "y_marc_one_hot = to_categorical(y_marc)\n",
    "\n",
    "marc_label = y_marc_one_hot\n",
    "\n",
    "X_marc = X_marc.reshape(-1, IMG_SIZE, IMG_SIZE, COLOR_CHANNELS)\n",
    "\n",
    "print(X_marc.shape, marc_label.shape)"
   ]
  },
  {
   "cell_type": "markdown",
   "id": "165b3fd0-e2fd-4a10-95c6-1370908b9f0c",
   "metadata": {},
   "source": [
    "## visualize classification results with a confusion matrix"
   ]
  },
  {
   "cell_type": "code",
   "execution_count": 15,
   "id": "6bf19f75-976a-449a-bc7a-76a4d30e9c92",
   "metadata": {
    "tags": []
   },
   "outputs": [
    {
     "name": "stdout",
     "output_type": "stream",
     "text": [
      "\u001b[1m1/1\u001b[0m \u001b[32m━━━━━━━━━━━━━━━━━━━━\u001b[0m\u001b[37m\u001b[0m \u001b[1m0s\u001b[0m 486ms/step\n",
      "['like', 'no_gesture', 'dislike', 'stop', 'rock', 'peace']\n",
      "Echte Labels (y_marc): [0 1 2 3 4]\n",
      "Vorhergesagte Labels (y_predictions): [5.8419009e-14 2.7662345e-13 3.4640522e-13 4.5000892e-11 6.6018795e-11\n",
      " 8.0317426e-11 1.2483162e-10 2.5844865e-10 3.0766634e-10 5.0824561e-10\n",
      " 8.7905438e-10 1.2026870e-09 3.3458920e-09 5.4887028e-09 1.1206872e-08\n",
      " 1.3201940e-08 1.4695800e-08 1.5058248e-08 1.6645794e-08 5.8162900e-08\n",
      " 6.4501485e-08 1.1530722e-07 1.2165908e-07 2.2302419e-07 2.4679630e-07\n",
      " 3.8104051e-07 4.0398973e-07 4.0672893e-07 4.2306900e-07 5.2329563e-07\n",
      " 7.0965166e-07 8.0650528e-07 8.8708384e-07 9.9689339e-07 1.0126442e-06\n",
      " 1.5143453e-06 1.5150192e-06 2.3205639e-06 2.7322096e-06 2.7676274e-06\n",
      " 5.6633539e-06 5.7128509e-06 1.2513014e-05 1.5560800e-05 1.9135716e-05\n",
      " 2.2787661e-05 5.3920383e-05 7.7937329e-05 8.3056744e-05 1.0851947e-04\n",
      " 1.2159284e-04 1.3046374e-04 1.5507061e-04 3.9231664e-04 3.9939102e-04\n",
      " 4.1361511e-04 4.3920235e-04 4.8079735e-04 4.8523367e-04 8.5522170e-04\n",
      " 8.5783668e-04 9.2143967e-04 9.9185971e-04 9.9229475e-04 1.2611366e-03\n",
      " 1.2867547e-03 6.1130715e-03 1.2244818e-02 1.6892474e-02 1.7296536e-02\n",
      " 3.8937744e-02 5.5211004e-02 2.4928047e-01 3.0214474e-01 4.3128291e-01\n",
      " 4.6692115e-01 5.3247392e-01 9.4384974e-01 9.6105623e-01 9.8133242e-01\n",
      " 9.8674601e-01 9.9388415e-01 9.9822336e-01 9.9851435e-01 9.9852836e-01\n",
      " 9.9871051e-01 9.9986875e-01 9.9989414e-01 9.9998736e-01 9.9999821e-01]\n",
      "before [[9.8133242e-01 1.7296536e-02 9.9689339e-07 1.0851947e-04 3.8104051e-07\n",
      "  1.2611366e-03]\n",
      " [3.0214474e-01 1.6892474e-02 1.4695800e-08 2.4928047e-01 3.9939102e-04\n",
      "  4.3128291e-01]\n",
      " [9.8674601e-01 9.9229475e-04 8.8708384e-07 1.5560800e-05 4.0398973e-07\n",
      "  1.2244818e-02]\n",
      " [1.5150192e-06 5.3247392e-01 4.6692115e-01 1.0126442e-06 4.8079735e-04\n",
      "  1.2159284e-04]\n",
      " [4.5000892e-11 8.3056744e-05 9.9989414e-01 1.2026870e-09 3.3458920e-09\n",
      "  2.2787661e-05]\n",
      " [4.2306900e-07 5.5211004e-02 9.4384974e-01 8.5522170e-04 5.6633539e-06\n",
      "  7.7937329e-05]\n",
      " [8.5783668e-04 4.1361511e-04 1.9135716e-05 9.9822336e-01 7.0965166e-07\n",
      "  4.8523367e-04]\n",
      " [1.5143453e-06 1.2165908e-07 1.5058248e-08 9.9999821e-01 3.4640522e-13\n",
      "  6.4501485e-08]\n",
      " [4.3920235e-04 5.3920383e-05 4.0672893e-07 9.9851435e-01 2.2302419e-07\n",
      "  9.9185971e-04]\n",
      " [2.5844865e-10 8.0650528e-07 1.2483162e-10 2.7662345e-13 9.9986875e-01\n",
      "  1.3046374e-04]\n",
      " [5.0824561e-10 2.7322096e-06 5.4887028e-09 5.8419009e-14 9.9871051e-01\n",
      "  1.2867547e-03]\n",
      " [1.3201940e-08 2.7676274e-06 8.7905438e-10 6.6018795e-11 9.9388415e-01\n",
      "  6.1130715e-03]\n",
      " [1.5507061e-04 9.2143967e-04 2.3205639e-06 5.2329563e-07 3.9231664e-04\n",
      "  9.9852836e-01]\n",
      " [2.4679630e-07 5.7128509e-06 1.1206872e-08 8.0317426e-11 3.8937744e-02\n",
      "  9.6105623e-01]\n",
      " [5.8162900e-08 1.1530722e-07 3.0766634e-10 1.6645794e-08 1.2513014e-05\n",
      "  9.9998736e-01]]\n",
      "probabilities [0 5 0 1 2 2 3 3 3 4 4 4 5 5 5]\n"
     ]
    },
    {
     "data": {
      "image/png": "[encoded data removed]",
      "text/plain": [
       "<Figure size 1000x1000 with 2 Axes>"
      ]
     },
     "metadata": {},
     "output_type": "display_data"
    }
   ],
   "source": [
    "model = keras.models.load_model(\"gesture_recognition.keras\")\n",
    "\n",
    "# let the model make predictions for our training data\n",
    "y_predictions = model.predict(X_marc)\n",
    "label_names = ['like', 'no_gesture', 'dislike', 'stop', 'rock', 'peace']\n",
    "print(label_names)\n",
    "print(\"Echte Labels (y_marc):\", np.unique(y_marc))\n",
    "print(\"Vorhergesagte Labels (y_predictions):\", np.unique(y_predictions))\n",
    "# we get a 2D numpy array with probabilities for each category\n",
    "print('before', y_predictions)\n",
    "\n",
    "# to build a confusion matrix, we have to convert it to classifications\n",
    "# this can be done by using the argmax() function to set the probability to 1 and the rest to 0\n",
    "y_predictions = np.argmax(y_predictions, axis=1)\n",
    "\n",
    "print('probabilities', y_predictions)\n",
    "\n",
    "# create and plot confusion matrix\n",
    "conf_matrix = confusion_matrix(y_marc, y_predictions)\n",
    "\n",
    "fig = plt.figure(figsize=(10, 10))\n",
    "\n",
    "ConfusionMatrixDisplay(conf_matrix, display_labels=label_names).plot(ax=plt.gca())\n",
    "\n",
    "plt.xticks(rotation=90, ha='center')\n",
    "pass"
   ]
  },
  {
   "cell_type": "markdown",
   "id": "23c5ebfc-d66d-4aa6-9738-2e2b2f7e8c94",
   "metadata": {},
   "source": [
    "## let's test our model in action"
   ]
  },
  {
   "cell_type": "code",
   "execution_count": null,
   "id": "f96d94ec-6d88-4b25-92f0-663cfa423a83",
   "metadata": {
    "tags": []
   },
   "outputs": [],
   "source": [
    "cap = cv2.VideoCapture(0)\n",
    "ret, frame = cap.read()\n",
    "if COLOR_CHANNELS == 1:\n",
    "    frame = cv2.cvtColor(frame, cv2.COLOR_BGR2GRAY)\n",
    "cap.release()\n",
    "plt.imshow(frame)"
   ]
  },
  {
   "cell_type": "markdown",
   "id": "b51b9e16-b4a3-4017-bb1f-ce539e3ea61c",
   "metadata": {},
   "source": [
    "## manual cropping for demonstration purposes - you can do better!"
   ]
  },
  {
   "cell_type": "code",
   "execution_count": null,
   "id": "80b80a4d-e59c-43ab-9581-705feff33eba",
   "metadata": {
    "tags": []
   },
   "outputs": [],
   "source": [
    "cropped = frame[80:380, 240:410]\n",
    "plt.imshow(cropped)"
   ]
  },
  {
   "cell_type": "code",
   "execution_count": null,
   "id": "545e91f6-80b0-47a6-aaf7-fc6ef5b1762e",
   "metadata": {
    "tags": []
   },
   "outputs": [],
   "source": [
    "resized = cv2.resize(cropped, SIZE)#[20:350, 200:420], SIZE)\n",
    "plt.imshow(resized)\n",
    "resized.shape"
   ]
  },
  {
   "cell_type": "code",
   "execution_count": null,
   "id": "e8ae7ec6-6c50-4fe0-ab59-908e1123bdbb",
   "metadata": {
    "tags": []
   },
   "outputs": [],
   "source": [
    "reshaped = resized.reshape(-1, IMG_SIZE, IMG_SIZE, COLOR_CHANNELS)\n",
    "reshaped.shape\n",
    "prediction = model.predict(reshaped)\n",
    "\n",
    "print(label_names[np.argmax(prediction)], np.max(prediction))"
   ]
  },
  {
   "cell_type": "code",
   "execution_count": null,
   "id": "7e143812-9d54-4677-8cc7-45039cc20827",
   "metadata": {},
   "outputs": [],
   "source": [
    "filters, biases = model.layers[2].get_weights()\n",
    "print(filters.shape)\n",
    "\n",
    "fig, axes = plt.subplots(8, 8, figsize=(20, 20))\n",
    "\n",
    "for i in range(8):\n",
    "    for j in range(8):\n",
    "        img = filters[:,:,:,i*8+j] * (1 / np.max(filters))\n",
    "        axes[i][j].imshow(img)"
   ]
  },
  {
   "cell_type": "code",
   "execution_count": null,
   "id": "ed0644e2-0739-42e8-a405-37c08f6d30e5",
   "metadata": {
    "tags": []
   },
   "outputs": [],
   "source": [
    "fig, axes = plt.subplots(8, 8, figsize=(20, 20))\n",
    "\n",
    "for i in range(8):\n",
    "    for j in range(8):\n",
    "        #axes[i][j].imshow(filters[:,:,:,i*8+j] * 255, 'gray')\n",
    "        kernel = filters[:,:,0,i*8+j]\n",
    "\n",
    "        #print(kernel.shape)\n",
    "\n",
    "        gray = cv2.cvtColor(resized, cv2.COLOR_BGR2GRAY)\n",
    "        filtered = cv2.filter2D(gray, -1, kernel)\n",
    "\n",
    "        axes[i][j].imshow(filtered, 'gray')"
   ]
  },
  {
   "cell_type": "markdown",
   "id": "6a7c9144-78d2-4725-944f-1bfd4fc1a97b",
   "metadata": {},
   "source": [
    "## Transfer Learning\n",
    "\n",
    "let's use a pre-trained model (VGG16) for our prediction\n",
    "\n",
    "note that VGG16 needs three color channels"
   ]
  },
  {
   "cell_type": "code",
   "execution_count": null,
   "id": "7a43fee9-6d18-4b32-807b-3e41d023a3cc",
   "metadata": {
    "tags": []
   },
   "outputs": [],
   "source": [
    "batch_size = 8\n",
    "epochs = 50\n",
    "num_classes = len(label_names)\n",
    "activation = 'relu'\n",
    "activation_conv = 'LeakyReLU'  # LeakyReLU\n",
    "layer_count = 2\n",
    "num_neurons = 256\n",
    "\n",
    "# load a VGG16 model trained on the imagenet dataset\n",
    "# include_top=False -> do not include the output layer\n",
    "# input_tensor -> tells the model about the dimensions of our images (VGG16 needs three color channels)\n",
    "# pooling -> which type of pooling to use between convolutions; max or avg seem to be the best\n",
    "VGG = VGG16(weights='imagenet', include_top=False, input_tensor=Input(shape=(IMG_SIZE, IMG_SIZE, COLOR_CHANNELS)), pooling='max')\n",
    "\n",
    "# we want to use the VGG's original weights -> make those layers untrainable\n",
    "for layer in VGG.layers:\n",
    "    layer.trainable = False\n",
    "\n",
    "# build a new model and add the VGG layers\n",
    "model_vgg = Sequential()\n",
    "model_vgg.add(VGG)\n",
    "\n",
    "# append dense layers at the end\n",
    "for i in range(layer_count - 1):\n",
    "    model_vgg.add(Dense(num_neurons, activation=activation))\n",
    "model_vgg.add(Dropout(0.2))\n",
    "\n",
    "model_vgg.add(Dense(num_neurons, activation=activation))\n",
    "\n",
    "# classifier\n",
    "model_vgg.add(Dense(num_classes, activation='softmax'))\n",
    "\n",
    "model_vgg.compile(loss=categorical_crossentropy, optimizer=\"adam\", metrics=['accuracy'])\n",
    "\n",
    "reduce_lr = ReduceLROnPlateau(monitor='val_loss', factor=0.3, patience=2, min_lr=0.0001)\n",
    "stop_early = EarlyStopping(monitor='val_loss', patience=3)"
   ]
  },
  {
   "cell_type": "code",
   "execution_count": null,
   "id": "65cdd148-83c2-401a-a27f-57cc6b61dee8",
   "metadata": {
    "tags": []
   },
   "outputs": [],
   "source": [
    "history_vgg = model_vgg.fit(\n",
    "    X_train,\n",
    "    train_label,\n",
    "    batch_size=batch_size,\n",
    "    epochs=epochs,\n",
    "    verbose=1,\n",
    "    validation_data=(X_test, test_label),\n",
    "    callbacks=[reduce_lr, stop_early]\n",
    ")"
   ]
  },
  {
   "cell_type": "code",
   "execution_count": null,
   "id": "14479f5f-4af0-4506-aaf7-a08ee2fe8b5b",
   "metadata": {
    "tags": []
   },
   "outputs": [],
   "source": [
    "model_vgg.summary()"
   ]
  },
  {
   "cell_type": "code",
   "execution_count": null,
   "id": "f77dd293-b9d0-48bd-ad2f-6f489316e8c1",
   "metadata": {
    "tags": []
   },
   "outputs": [],
   "source": [
    "loss = history_vgg.history['loss']\n",
    "val_loss = history_vgg.history['val_loss']\n",
    "accuracy = history_vgg.history['accuracy']\n",
    "val_accuracy = history_vgg.history['val_accuracy']\n",
    "\n",
    "fig = plt.figure(figsize=(15, 7))\n",
    "ax = plt.gca()\n",
    "\n",
    "ax.set_xlabel('Epoch')\n",
    "ax.set_ylabel('Accuracy (Line), Loss (Dashes)')\n",
    "\n",
    "ax.axhline(1, color='gray')\n",
    "\n",
    "plt.plot(accuracy, color='blue')\n",
    "plt.plot(val_accuracy, color='orange')\n",
    "plt.plot(loss, '--', color='blue', alpha=0.5)\n",
    "plt.plot(val_loss, '--', color='orange', alpha=0.5)"
   ]
  },
  {
   "cell_type": "code",
   "execution_count": null,
   "id": "3c0d4897-7d12-4ff1-9004-8b3d04d2df8e",
   "metadata": {
    "tags": []
   },
   "outputs": [],
   "source": [
    "# let the model make predictions for our training data\n",
    "y_predictions = model_vgg.predict(X_test)\n",
    "\n",
    "# we get a 2D numpy array with probabilities for each category\n",
    "print('before', y_predictions)\n",
    "\n",
    "# to build a confusion matrix, we have to convert it to classifications\n",
    "# this can be done by using the argmax() function to set the probability to 1 and the rest to 0\n",
    "y_predictions = np.argmax(y_predictions, axis=1)\n",
    "\n",
    "print('probabilities', y_predictions)\n",
    "\n",
    "# create and plot confusion matrix\n",
    "conf_matrix = confusion_matrix(y_test, y_predictions)\n",
    "\n",
    "fig = plt.figure(figsize=(10, 10))\n",
    "\n",
    "ConfusionMatrixDisplay(conf_matrix, display_labels=label_names).plot(ax=plt.gca())\n",
    "\n",
    "plt.xticks(rotation=90, ha='center')\n",
    "pass"
   ]
  },
  {
   "cell_type": "code",
   "execution_count": null,
   "id": "d2373dc1-5a13-462f-a732-f3fdbec12304",
   "metadata": {},
   "outputs": [],
   "source": []
  }
 ],
 "metadata": {
  "kernelspec": {
   "display_name": "Python 3",
   "language": "python",
   "name": "python3"
  },
  "language_info": {
   "codemirror_mode": {
    "name": "ipython",
    "version": 3
   },
   "file_extension": ".py",
   "mimetype": "text/x-python",
   "name": "python",
   "nbconvert_exporter": "python",
   "pygments_lexer": "ipython3",
   "version": "3.12.0"
  }
 },
 "nbformat": 4,
 "nbformat_minor": 5
}
